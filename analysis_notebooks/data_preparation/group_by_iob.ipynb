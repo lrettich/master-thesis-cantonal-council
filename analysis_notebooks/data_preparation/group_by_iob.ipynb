{
 "cells": [
  {
   "cell_type": "code",
   "execution_count": 16,
   "metadata": {},
   "outputs": [],
   "source": [
    "import pandas as pd"
   ]
  },
  {
   "cell_type": "code",
   "execution_count": 17,
   "metadata": {},
   "outputs": [],
   "source": [
    "df = pd.read_pickle(\"../data/df_lemma.pkl\")"
   ]
  },
  {
   "cell_type": "code",
   "execution_count": 18,
   "metadata": {},
   "outputs": [
    {
     "name": "stdout",
     "output_type": "stream",
     "text": [
      "<class 'pandas.core.frame.DataFrame'>\n",
      "RangeIndex: 192327 entries, 0 to 192326\n",
      "Data columns (total 15 columns):\n",
      " #   Column            Non-Null Count   Dtype         \n",
      "---  ------            --------------   -----         \n",
      " 0   index             192327 non-null  int64         \n",
      " 1   paragraph_id      192327 non-null  int64         \n",
      " 2   item_of_business  192327 non-null  object        \n",
      " 3   person_id         104609 non-null  object        \n",
      " 4   first_name        104609 non-null  object        \n",
      " 5   last_name         104609 non-null  object        \n",
      " 6   council           104609 non-null  object        \n",
      " 7   party             104562 non-null  object        \n",
      " 8   in_admin_role     192327 non-null  bool          \n",
      " 9   text              192327 non-null  object        \n",
      " 10  date              192327 non-null  datetime64[ns]\n",
      " 11  session_title     192327 non-null  object        \n",
      " 12  session_id        192327 non-null  int64         \n",
      " 13  iob_ident         192327 non-null  object        \n",
      " 14  lemma             192327 non-null  object        \n",
      "dtypes: bool(1), datetime64[ns](1), int64(3), object(10)\n",
      "memory usage: 20.7+ MB\n"
     ]
    }
   ],
   "source": [
    "df.info()"
   ]
  },
  {
   "cell_type": "code",
   "execution_count": 19,
   "metadata": {},
   "outputs": [],
   "source": [
    "df = df[df['date'].dt.year >= 2018]"
   ]
  },
  {
   "cell_type": "code",
   "execution_count": 20,
   "metadata": {},
   "outputs": [],
   "source": [
    "df.groupby('iob_ident')['lemma'].sum().to_pickle(\"../data/df_lemma_grouped_from2018.pkl\")"
   ]
  },
  {
   "cell_type": "code",
   "execution_count": null,
   "metadata": {},
   "outputs": [],
   "source": []
  }
 ],
 "metadata": {
  "kernelspec": {
   "display_name": "azureml_py310_sdkv2",
   "language": "python",
   "name": "python3"
  },
  "language_info": {
   "codemirror_mode": {
    "name": "ipython",
    "version": 3
   },
   "file_extension": ".py",
   "mimetype": "text/x-python",
   "name": "python",
   "nbconvert_exporter": "python",
   "pygments_lexer": "ipython3",
   "version": "3.10.9"
  },
  "orig_nbformat": 4
 },
 "nbformat": 4,
 "nbformat_minor": 2
}
