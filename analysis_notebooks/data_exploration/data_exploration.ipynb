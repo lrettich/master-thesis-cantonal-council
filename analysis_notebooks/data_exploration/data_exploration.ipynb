{
  "cells": [
    {
      "attachments": {},
      "cell_type": "markdown",
      "metadata": {},
      "source": [
        "# Data Exploration\n",
        "\n",
        "## Data Import"
      ]
    },
    {
      "cell_type": "code",
      "execution_count": 1,
      "metadata": {
        "gather": {
          "logged": 1679092719737
        }
      },
      "outputs": [],
      "source": [
        "import pandas as pd\n",
        "import numpy as np\n",
        "import matplotlib.pyplot as plt\n",
        "import seaborn as sns\n",
        "\n",
        "from azureml.core import Workspace, Dataset"
      ]
    },
    {
      "cell_type": "code",
      "execution_count": 2,
      "metadata": {
        "gather": {
          "logged": 1679050283351
        },
        "jupyter": {
          "outputs_hidden": false,
          "source_hidden": false
        },
        "nteract": {
          "transient": {
            "deleting": false
          }
        }
      },
      "outputs": [
        {
          "name": "stderr",
          "output_type": "stream",
          "text": [
            "Failed to extract subscription information, Exception=AttributeError; 'Logger' object has no attribute 'activity_info'\n",
            "Failed to extract subscription information, Exception=AttributeError; 'Logger' object has no attribute 'activity_info'\n",
            "Failed to extract subscription information, Exception=AttributeError; 'Logger' object has no attribute 'activity_info'\n",
            "Failed to extract subscription information, Exception=AttributeError; 'Logger' object has no attribute 'activity_info'\n",
            "Failed to extract subscription information, Exception=AttributeError; 'Logger' object has no attribute 'activity_info'\n",
            "Message: rslex failed, falling back to clex.\n",
            "Payload: {\"pid\": 25533, \"source\": \"azureml.dataprep\", \"version\": \"4.8.4\", \"trace\": \"azureml|data|tabular_dataset.py, line 169 in function <lambda>.\\nazureml|data|dataset_error_handling.py, line 106 in function _try_execute.\\nazureml|data|tabular_dataset.py, line 169 in function to_pandas_dataframe.\", \"subscription\": \"\", \"run_id\": \"\", \"resource_group\": \"\", \"workspace_name\": \"\", \"experiment_id\": \"\", \"location\": \"\", \"rslex_version\": \"2.15.2\"}\n",
            "Failed to extract subscription information, Exception=AttributeError; 'Logger' object has no attribute 'activity_info'\n"
          ]
        }
      ],
      "source": [
        "subscription_id = '<<subscription_id>>'\n",
        "resource_group = 'rg-leore-001'\n",
        "workspace_name = 'leomathesisML'\n",
        "\n",
        "workspace = Workspace(subscription_id, resource_group, workspace_name)\n",
        "\n",
        "dataset = Dataset.get_by_name(workspace, name='db_data_asset')\n",
        "df = dataset.to_pandas_dataframe()"
      ]
    },
    {
      "cell_type": "code",
      "execution_count": 3,
      "metadata": {
        "gather": {
          "logged": 1679050321819
        },
        "jupyter": {
          "outputs_hidden": false,
          "source_hidden": false
        },
        "nteract": {
          "transient": {
            "deleting": false
          }
        }
      },
      "outputs": [
        {
          "name": "stdout",
          "output_type": "stream",
          "text": [
            "Downloaded dataset: (193501, 12)\n"
          ]
        }
      ],
      "source": [
        "print(f\"Downloaded dataset: {df.shape}\")"
      ]
    },
    {
      "cell_type": "code",
      "execution_count": 4,
      "metadata": {
        "jupyter": {
          "outputs_hidden": false,
          "source_hidden": false
        },
        "nteract": {
          "transient": {
            "deleting": false
          }
        }
      },
      "outputs": [
        {
          "name": "stdout",
          "output_type": "stream",
          "text": [
            "<class 'pandas.core.frame.DataFrame'>\n",
            "RangeIndex: 193501 entries, 0 to 193500\n",
            "Data columns (total 12 columns):\n",
            " #   Column            Non-Null Count   Dtype         \n",
            "---  ------            --------------   -----         \n",
            " 0   paragraph_id      193501 non-null  int64         \n",
            " 1   item_of_business  193501 non-null  object        \n",
            " 2   person_id         105271 non-null  object        \n",
            " 3   first_name        105271 non-null  object        \n",
            " 4   last_name         105271 non-null  object        \n",
            " 5   council           105271 non-null  object        \n",
            " 6   party             105224 non-null  object        \n",
            " 7   in_admin_role     193501 non-null  bool          \n",
            " 8   text              193501 non-null  object        \n",
            " 9   date              193501 non-null  datetime64[ns]\n",
            " 10  session_title     193501 non-null  object        \n",
            " 11  session_id        193501 non-null  int64         \n",
            "dtypes: bool(1), datetime64[ns](1), int64(2), object(8)\n",
            "memory usage: 16.4+ MB\n"
          ]
        }
      ],
      "source": [
        "df.info()"
      ]
    },
    {
      "cell_type": "code",
      "execution_count": 5,
      "metadata": {},
      "outputs": [
        {
          "data": {
            "text/html": [
              "<div>\n",
              "<style scoped>\n",
              "    .dataframe tbody tr th:only-of-type {\n",
              "        vertical-align: middle;\n",
              "    }\n",
              "\n",
              "    .dataframe tbody tr th {\n",
              "        vertical-align: top;\n",
              "    }\n",
              "\n",
              "    .dataframe thead th {\n",
              "        text-align: right;\n",
              "    }\n",
              "</style>\n",
              "<table border=\"1\" class=\"dataframe\">\n",
              "  <thead>\n",
              "    <tr style=\"text-align: right;\">\n",
              "      <th></th>\n",
              "      <th>paragraph_id</th>\n",
              "      <th>item_of_business</th>\n",
              "      <th>person_id</th>\n",
              "      <th>first_name</th>\n",
              "      <th>last_name</th>\n",
              "      <th>council</th>\n",
              "      <th>party</th>\n",
              "      <th>in_admin_role</th>\n",
              "      <th>text</th>\n",
              "      <th>date</th>\n",
              "      <th>session_title</th>\n",
              "      <th>session_id</th>\n",
              "    </tr>\n",
              "  </thead>\n",
              "  <tbody>\n",
              "    <tr>\n",
              "      <th>0</th>\n",
              "      <td>203298</td>\n",
              "      <td>1. Mitteilungen</td>\n",
              "      <td>20281</td>\n",
              "      <td>Werner</td>\n",
              "      <td>Hegetschweiler</td>\n",
              "      <td>Kantonsrat</td>\n",
              "      <td>FDP</td>\n",
              "      <td>False</td>\n",
              "      <td>, Alterspräsident, eröffnet die erste Kantonsr...</td>\n",
              "      <td>1995-05-08</td>\n",
              "      <td>1. Ratssitzung</td>\n",
              "      <td>1595</td>\n",
              "    </tr>\n",
              "    <tr>\n",
              "      <th>1</th>\n",
              "      <td>203324</td>\n",
              "      <td>1. Mitteilungen</td>\n",
              "      <td>None</td>\n",
              "      <td>None</td>\n",
              "      <td>None</td>\n",
              "      <td>None</td>\n",
              "      <td>None</td>\n",
              "      <td>False</td>\n",
              "      <td>Dank der modernen Datenspeicherungstechnik be...</td>\n",
              "      <td>1995-05-08</td>\n",
              "      <td>1. Ratssitzung</td>\n",
              "      <td>1595</td>\n",
              "    </tr>\n",
              "    <tr>\n",
              "      <th>2</th>\n",
              "      <td>203326</td>\n",
              "      <td>1. Mitteilungen</td>\n",
              "      <td>None</td>\n",
              "      <td>None</td>\n",
              "      <td>None</td>\n",
              "      <td>None</td>\n",
              "      <td>None</td>\n",
              "      <td>False</td>\n",
              "      <td>• Das Ansehen der Politiker in der Bevölkerung...</td>\n",
              "      <td>1995-05-08</td>\n",
              "      <td>1. Ratssitzung</td>\n",
              "      <td>1595</td>\n",
              "    </tr>\n",
              "    <tr>\n",
              "      <th>3</th>\n",
              "      <td>203346</td>\n",
              "      <td>1. Mitteilungen</td>\n",
              "      <td>None</td>\n",
              "      <td>None</td>\n",
              "      <td>None</td>\n",
              "      <td>None</td>\n",
              "      <td>None</td>\n",
              "      <td>False</td>\n",
              "      <td>Wir müssen unseren Haushalt wieder in Ordnung...</td>\n",
              "      <td>1995-05-08</td>\n",
              "      <td>1. Ratssitzung</td>\n",
              "      <td>1595</td>\n",
              "    </tr>\n",
              "    <tr>\n",
              "      <th>4</th>\n",
              "      <td>203361</td>\n",
              "      <td>2. Wahl des Büros des Kantonsrates (Präsidium,...</td>\n",
              "      <td>20281</td>\n",
              "      <td>Werner</td>\n",
              "      <td>Hegetschweiler</td>\n",
              "      <td>Kantonsrat</td>\n",
              "      <td>FDP</td>\n",
              "      <td>False</td>\n",
              "      <td>: Gemäss § 71 des Gesetzes über die Wahlen und...</td>\n",
              "      <td>1995-05-08</td>\n",
              "      <td>1. Ratssitzung</td>\n",
              "      <td>1595</td>\n",
              "    </tr>\n",
              "  </tbody>\n",
              "</table>\n",
              "</div>"
            ],
            "text/plain": [
              "   paragraph_id                                   item_of_business person_id  \\\n",
              "0        203298                                    1. Mitteilungen     20281   \n",
              "1        203324                                    1. Mitteilungen      None   \n",
              "2        203326                                    1. Mitteilungen      None   \n",
              "3        203346                                    1. Mitteilungen      None   \n",
              "4        203361  2. Wahl des Büros des Kantonsrates (Präsidium,...     20281   \n",
              "\n",
              "  first_name       last_name     council party  in_admin_role  \\\n",
              "0     Werner  Hegetschweiler  Kantonsrat   FDP          False   \n",
              "1       None            None        None  None          False   \n",
              "2       None            None        None  None          False   \n",
              "3       None            None        None  None          False   \n",
              "4     Werner  Hegetschweiler  Kantonsrat   FDP          False   \n",
              "\n",
              "                                                text       date  \\\n",
              "0  , Alterspräsident, eröffnet die erste Kantonsr... 1995-05-08   \n",
              "1   Dank der modernen Datenspeicherungstechnik be... 1995-05-08   \n",
              "2  • Das Ansehen der Politiker in der Bevölkerung... 1995-05-08   \n",
              "3   Wir müssen unseren Haushalt wieder in Ordnung... 1995-05-08   \n",
              "4  : Gemäss § 71 des Gesetzes über die Wahlen und... 1995-05-08   \n",
              "\n",
              "    session_title  session_id  \n",
              "0  1. Ratssitzung        1595  \n",
              "1  1. Ratssitzung        1595  \n",
              "2  1. Ratssitzung        1595  \n",
              "3  1. Ratssitzung        1595  \n",
              "4  1. Ratssitzung        1595  "
            ]
          },
          "execution_count": 5,
          "metadata": {},
          "output_type": "execute_result"
        }
      ],
      "source": [
        "df.head(5)"
      ]
    },
    {
      "cell_type": "code",
      "execution_count": 6,
      "metadata": {},
      "outputs": [
        {
          "name": "stdout",
          "output_type": "stream",
          "text": [
            "session_id          7\n",
            "item_of_business    1\n",
            "dtype: int64\n",
            "session_id          2739\n",
            "item_of_business      44\n",
            "dtype: int64\n",
            "session_id          781.062542\n",
            "item_of_business      9.420492\n",
            "dtype: float64\n"
          ]
        }
      ],
      "source": [
        "print(df.groupby(\"session_id\", as_index=False)[\"item_of_business\"].nunique().min())\n",
        "print(df.groupby(\"session_id\", as_index=False)[\"item_of_business\"].nunique().max())\n",
        "print(df.groupby(\"session_id\", as_index=False)[\"item_of_business\"].nunique().mean())"
      ]
    },
    {
      "attachments": {},
      "cell_type": "markdown",
      "metadata": {},
      "source": [
        "Check completeness"
      ]
    },
    {
      "cell_type": "code",
      "execution_count": 7,
      "metadata": {},
      "outputs": [
        {
          "name": "stdout",
          "output_type": "stream",
          "text": [
            "session_id                        7\n",
            "item_of_business    1. 4 Grundlagen\n",
            "paragraph_id                      1\n",
            "dtype: object\n",
            "session_id                                  2739\n",
            "item_of_business    Wahl von Spezialkommissionen\n",
            "paragraph_id                                 266\n",
            "dtype: object\n",
            "session_id      782.812204\n",
            "paragraph_id     13.666290\n",
            "dtype: float64\n"
          ]
        },
        {
          "name": "stderr",
          "output_type": "stream",
          "text": [
            "/tmp/ipykernel_25533/1933566780.py:3: FutureWarning: The default value of numeric_only in DataFrame.mean is deprecated. In a future version, it will default to False. In addition, specifying 'numeric_only=None' is deprecated. Select only valid columns or specify the value of numeric_only to silence this warning.\n",
            "  print(df.groupby([\"session_id\", \"item_of_business\"], as_index=False)[\"paragraph_id\"].nunique().mean())\n"
          ]
        }
      ],
      "source": [
        "print(df.groupby([\"session_id\", \"item_of_business\"], as_index=False)[\"paragraph_id\"].nunique().min())\n",
        "print(df.groupby([\"session_id\", \"item_of_business\"], as_index=False)[\"paragraph_id\"].nunique().max())\n",
        "print(df.groupby([\"session_id\", \"item_of_business\"], as_index=False)[\"paragraph_id\"].nunique().mean())"
      ]
    },
    {
      "cell_type": "code",
      "execution_count": 8,
      "metadata": {},
      "outputs": [
        {
          "name": "stdout",
          "output_type": "stream",
          "text": [
            "A session could be missing here: \n",
            "    session_id       date    session_title  session_nr\n",
            "48        1624 1996-04-29  49. Ratssitzung          49\n",
            "49        1616 1996-05-06  50. Ratssitzung          50\n",
            "50        1625 1996-05-20  52. Ratssitzung          52\n",
            "51         707 1996-06-03  53. Ratssitzung          53\n",
            "\n",
            "\n",
            "A session could be missing here: \n",
            "    session_id       date    session_title  session_nr\n",
            "50        1625 1996-05-20  52. Ratssitzung          52\n",
            "51         707 1996-06-03  53. Ratssitzung          53\n",
            "52        1618 1996-06-10  55. Ratssitzung          55\n",
            "53        1631 1996-06-17  56. Ratssitzung          56\n",
            "\n",
            "\n",
            "A session could be missing here: \n",
            "     session_id       date     session_title  session_nr\n",
            "105        1683 1997-04-28  108. Ratssitzung         108\n",
            "106        1698 1997-05-05  109. Ratssitzung         109\n",
            "107        1702 1997-05-26  111. Ratssitzung         111\n",
            "108        2698 1997-05-26  112. Ratssitzung         112\n",
            "\n",
            "\n",
            "A session could be missing here: \n",
            "     session_id       date     session_title  session_nr\n",
            "107        1702 1997-05-26  111. Ratssitzung         111\n",
            "108        2698 1997-05-26  112. Ratssitzung         112\n",
            "109        1687 1997-06-16  115. Ratssitzung         115\n",
            "110        1238 1997-06-23  116. Ratssitzung         116\n",
            "\n",
            "\n",
            "A session could be missing here: \n",
            "     session_id       date     session_title  session_nr\n",
            "120        1713 1997-09-22  126. Ratssitzung         126\n",
            "121        1228 1997-09-29  127. Ratssitzung         127\n",
            "122        1246 1997-10-06  129. Ratssitzung         129\n",
            "123        1241 1997-10-20  130. Ratssitzung         130\n",
            "\n",
            "\n",
            "A session could be missing here: \n",
            "     session_id       date     session_title  session_nr\n",
            "124        1234 1997-10-27  131. Ratssitzung         131\n",
            "125        1245 1997-11-03  132. Ratssitzung         132\n",
            "126        1243 1997-11-10  134. Ratssitzung         134\n",
            "127        1239 1997-11-17  135. Ratssitzung         135\n",
            "\n",
            "\n",
            "A session could be missing here: \n",
            "     session_id       date     session_title  session_nr\n",
            "127        1239 1997-11-17  135. Ratssitzung         135\n",
            "128        1682 1997-11-24  136. Ratssitzung         136\n",
            "129        1701 1997-12-01  138. Ratssitzung         138\n",
            "130        1685 1997-12-08  139. Ratssitzung         139\n",
            "\n",
            "\n",
            "A session could be missing here: \n",
            "     session_id       date     session_title  session_nr\n",
            "135        1729 1998-01-05  144. Ratssitzung         144\n",
            "136        1699 1998-01-12  145. Ratssitzung         145\n",
            "137        1732 1998-01-26  147. Ratssitzung         147\n",
            "138        1446 1998-02-02  149. Ratssitzung         149\n",
            "\n",
            "\n",
            "A session could be missing here: \n",
            "     session_id       date     session_title  session_nr\n",
            "136        1699 1998-01-12  145. Ratssitzung         145\n",
            "137        1732 1998-01-26  147. Ratssitzung         147\n",
            "138        1446 1998-02-02  149. Ratssitzung         149\n",
            "139        1450 1998-02-09  150. Ratssitzung         150\n",
            "\n",
            "\n",
            "A session could be missing here: \n",
            "     session_id       date    session_title  session_nr\n",
            "281        1337 2000-10-23  68. Ratssitzung          68\n",
            "282        1349 2000-10-30  69. Ratssitzung          69\n",
            "283        1347 2000-11-06  71. Ratssitzung          71\n",
            "284        1357 2000-11-13  72. Ratssitzung          72\n",
            "\n",
            "\n",
            "A session could be missing here: \n",
            "     session_id       date     session_title  session_nr\n",
            "407         777 2003-03-10  195. Ratssitzung         195\n",
            "408         817 2003-03-10  196. Ratssitzung         196\n",
            "409         818 2003-03-17  198. Ratssitzung         198\n",
            "410         765 2003-03-24  199. Ratssitzung         199\n",
            "\n",
            "\n",
            "A session could be missing here: \n",
            "     session_id       date    session_title  session_nr\n",
            "459         829 2004-03-01  42. Ratssitzung          42\n",
            "460         842 2004-03-08  43. Ratssitzung          43\n",
            "461         878 2004-03-15  45. Ratssitzung          45\n",
            "462         875 2004-03-22  46. Ratssitzung          46\n",
            "\n",
            "\n",
            "A session could be missing here: \n",
            "     session_id       date     session_title  session_nr\n",
            "530         921 2005-08-29  114. Ratssitzung         114\n",
            "531         929 2005-08-29  115. Ratssitzung         115\n",
            "532         935 2005-09-12  117. Ratssitzung         117\n",
            "533         941 2005-09-19  118. Ratssitzung         118\n",
            "\n",
            "\n",
            "A session could be missing here: \n",
            "     session_id       date     session_title  session_nr\n",
            "588        1040 2006-11-13  173. Ratssitzung         173\n",
            "589         994 2006-11-20  174. Ratssitzung         174\n",
            "590         993 2006-11-26  176. Ratssitzung         176\n",
            "591        1003 2006-11-27  175. Ratssitzung         175\n",
            "\n",
            "\n",
            "A session could be missing here: \n",
            "     session_id       date     session_title  session_nr\n",
            "590         993 2006-11-26  176. Ratssitzung         176\n",
            "591        1003 2006-11-27  175. Ratssitzung         175\n",
            "592        1005 2006-12-04  177. Ratssitzung         177\n",
            "593        1006 2006-12-11  178. Ratssitzung         178\n",
            "\n",
            "\n",
            "A session could be missing here: \n",
            "     session_id       date    session_title  session_nr\n",
            "926         133 2012-12-10  82. Ratssitzung          82\n",
            "927         125 2012-12-10  83. Ratssitzung          83\n",
            "928         113 2012-12-17  86. Ratssitzung          86\n",
            "929         108 2012-12-17  87. Ratssitzung          87\n",
            "\n",
            "\n"
          ]
        }
      ],
      "source": [
        "session_df = df[['session_id', 'date', 'session_title']].drop_duplicates()\n",
        "session_df['session_nr'] = pd.to_numeric(session_df['session_title'].str.split(\".\").str[0])\n",
        "session_df = session_df.sort_values(by=['date', 'session_nr'], ignore_index=True)\n",
        "skip_positions = []\n",
        "for i in range(1, len(session_df)):\n",
        "    diff = session_df.iloc[i]['session_nr'] - session_df.iloc[i-1]['session_nr']\n",
        "    if diff >  1:\n",
        "        skip_positions.append(i)\n",
        "if len(skip_positions) == 0:\n",
        "    print(\"Sessions are continuous.\")\n",
        "else:\n",
        "    for i in skip_positions:\n",
        "        print(\"A session could be missing here: \")\n",
        "        print(session_df.iloc[max(i-2, 0):min(i+2, len(session_df)-1)])\n",
        "        print(\"\\n\")\n"
      ]
    },
    {
      "cell_type": "code",
      "execution_count": 9,
      "metadata": {},
      "outputs": [
        {
          "data": {
            "text/html": [
              "<div>\n",
              "<style scoped>\n",
              "    .dataframe tbody tr th:only-of-type {\n",
              "        vertical-align: middle;\n",
              "    }\n",
              "\n",
              "    .dataframe tbody tr th {\n",
              "        vertical-align: top;\n",
              "    }\n",
              "\n",
              "    .dataframe thead th {\n",
              "        text-align: right;\n",
              "    }\n",
              "</style>\n",
              "<table border=\"1\" class=\"dataframe\">\n",
              "  <thead>\n",
              "    <tr style=\"text-align: right;\">\n",
              "      <th></th>\n",
              "      <th>session_id</th>\n",
              "      <th>date</th>\n",
              "      <th>session_title</th>\n",
              "      <th>session_nr</th>\n",
              "    </tr>\n",
              "  </thead>\n",
              "  <tbody>\n",
              "    <tr>\n",
              "      <th>5</th>\n",
              "      <td>1609</td>\n",
              "      <td>1995-06-19</td>\n",
              "      <td>6. Ratssitzung</td>\n",
              "      <td>6</td>\n",
              "    </tr>\n",
              "    <tr>\n",
              "      <th>6</th>\n",
              "      <td>717</td>\n",
              "      <td>1995-06-26</td>\n",
              "      <td>7. Ratssitzung</td>\n",
              "      <td>7</td>\n",
              "    </tr>\n",
              "  </tbody>\n",
              "</table>\n",
              "</div>"
            ],
            "text/plain": [
              "   session_id       date   session_title  session_nr\n",
              "5        1609 1995-06-19  6. Ratssitzung           6\n",
              "6         717 1995-06-26  7. Ratssitzung           7"
            ]
          },
          "execution_count": 9,
          "metadata": {},
          "output_type": "execute_result"
        }
      ],
      "source": [
        "session_df.iloc[5:7]"
      ]
    },
    {
      "attachments": {},
      "cell_type": "markdown",
      "metadata": {},
      "source": [
        "## Session per Year"
      ]
    },
    {
      "cell_type": "code",
      "execution_count": 10,
      "metadata": {},
      "outputs": [
        {
          "data": {
            "text/plain": [
              "1503"
            ]
          },
          "execution_count": 10,
          "metadata": {},
          "output_type": "execute_result"
        }
      ],
      "source": [
        "df['session_id'].nunique()"
      ]
    },
    {
      "cell_type": "code",
      "execution_count": 11,
      "metadata": {},
      "outputs": [
        {
          "data": {
            "text/plain": [
              "array([33, 55, 47, 56, 54, 49, 44, 59, 52, 52, 51, 47, 62, 55, 58, 53, 52,\n",
              "       51, 52, 59, 54, 51, 55, 55, 59, 56, 58, 56, 18])"
            ]
          },
          "execution_count": 11,
          "metadata": {},
          "output_type": "execute_result"
        }
      ],
      "source": [
        "df.groupby(df['date'].dt.year)['session_id'].nunique().values"
      ]
    },
    {
      "cell_type": "code",
      "execution_count": 12,
      "metadata": {},
      "outputs": [
        {
          "data": {
            "image/png": "[encoded data removed]",
            "text/plain": [
              "<Figure size 432x288 with 1 Axes>"
            ]
          },
          "metadata": {
            "needs_background": "light"
          },
          "output_type": "display_data"
        }
      ],
      "source": [
        "df.groupby(df['date'].dt.year)['session_id'].nunique().plot(kind='bar')\n",
        "plt.show()"
      ]
    },
    {
      "cell_type": "code",
      "execution_count": 13,
      "metadata": {},
      "outputs": [
        {
          "data": {
            "image/png": "[encoded data removed]",
            "text/plain": [
              "<Figure size 864x432 with 1 Axes>"
            ]
          },
          "metadata": {
            "needs_background": "light"
          },
          "output_type": "display_data"
        }
      ],
      "source": [
        "s = df.groupby(df['date'].dt.year)['session_id'].nunique()\n",
        "years = s.index\n",
        "counts = s.values\n",
        "\n",
        "plt.rcParams.update({'font.size': 16})\n",
        "plt.figure(figsize=(12,6))\n",
        "\n",
        "plt.bar(years, counts)\n",
        "plt.xticks(np.arange(min(years), max(years)+1, 1))\n",
        "plt.xlim([min(years)-0.75, max(years)+0.75])\n",
        "plt.xticks(rotation=90)\n",
        "plt.xlabel(\"Year\")\n",
        "plt.ylabel(\"Number of Collected PDF Files\")\n",
        "plt.grid(axis = 'y')\n",
        "plt.show()"
      ]
    },
    {
      "attachments": {},
      "cell_type": "markdown",
      "metadata": {},
      "source": [
        "## Paragraphs / spoken statements"
      ]
    },
    {
      "attachments": {},
      "cell_type": "markdown",
      "metadata": {},
      "source": [
        "All data"
      ]
    },
    {
      "cell_type": "code",
      "execution_count": 14,
      "metadata": {},
      "outputs": [
        {
          "data": {
            "text/plain": [
              "<AxesSubplot: xlabel='date'>"
            ]
          },
          "execution_count": 14,
          "metadata": {},
          "output_type": "execute_result"
        },
        {
          "data": {
            "image/png": "[encoded data removed]",
            "text/plain": [
              "<Figure size 432x288 with 1 Axes>"
            ]
          },
          "metadata": {
            "needs_background": "light"
          },
          "output_type": "display_data"
        }
      ],
      "source": [
        "df.groupby(df['date'].dt.year)['paragraph_id'].count().plot(kind='bar')"
      ]
    },
    {
      "attachments": {},
      "cell_type": "markdown",
      "metadata": {},
      "source": [
        "All sessions of 2022"
      ]
    },
    {
      "cell_type": "code",
      "execution_count": 15,
      "metadata": {},
      "outputs": [
        {
          "data": {
            "text/plain": [
              "<AxesSubplot: xlabel='session_title'>"
            ]
          },
          "execution_count": 15,
          "metadata": {},
          "output_type": "execute_result"
        },
        {
          "data": {
            "image/png": "[encoded data removed]",
            "text/plain": [
              "<Figure size 1440x720 with 1 Axes>"
            ]
          },
          "metadata": {
            "needs_background": "light"
          },
          "output_type": "display_data"
        }
      ],
      "source": [
        "df[df['date'].dt.year == 2022].groupby('session_title')['paragraph_id'].count().plot(kind='bar', figsize=(20, 10))"
      ]
    },
    {
      "attachments": {},
      "cell_type": "markdown",
      "metadata": {},
      "source": [
        "2022's sessions: Statements per party"
      ]
    },
    {
      "cell_type": "code",
      "execution_count": 16,
      "metadata": {},
      "outputs": [
        {
          "data": {
            "text/plain": [
              "<AxesSubplot: xlabel='session_title'>"
            ]
          },
          "execution_count": 16,
          "metadata": {},
          "output_type": "execute_result"
        },
        {
          "data": {
            "image/png": "[encoded data removed]",
            "text/plain": [
              "<Figure size 1440x720 with 1 Axes>"
            ]
          },
          "metadata": {
            "needs_background": "light"
          },
          "output_type": "display_data"
        }
      ],
      "source": [
        "df[df['date'].dt.year == 2022].groupby(['session_title', 'party'])['paragraph_id'].size().unstack().plot(kind='bar', stacked=True, figsize=(20, 10), colormap='Set3')"
      ]
    },
    {
      "attachments": {},
      "cell_type": "markdown",
      "metadata": {},
      "source": [
        "Attention! After Session 172, there is a suspicious drop in the statements from GLP. This is because until then, the Ratspräsident was from GLP, afterwards it changed to a politician from \"Grüne\". \n",
        "\n",
        "Hence, it is important to exclude administrative statements from the \"Ratspräsident\"."
      ]
    },
    {
      "cell_type": "code",
      "execution_count": 17,
      "metadata": {},
      "outputs": [
        {
          "data": {
            "text/plain": [
              "<AxesSubplot: xlabel='session_title'>"
            ]
          },
          "execution_count": 17,
          "metadata": {},
          "output_type": "execute_result"
        },
        {
          "data": {
            "image/png": "[encoded data removed]",
            "text/plain": [
              "<Figure size 1440x720 with 1 Axes>"
            ]
          },
          "metadata": {
            "needs_background": "light"
          },
          "output_type": "display_data"
        }
      ],
      "source": [
        "df[(df['date'].dt.year == 2022) & (df['in_admin_role'] == False) & (df[\"council\"] == \"Kantonsrat\")].groupby(['session_title', 'party'])['paragraph_id'].size().unstack().plot(kind='bar', stacked=True, figsize=(20, 10), colormap='Set3')"
      ]
    },
    {
      "cell_type": "code",
      "execution_count": 18,
      "metadata": {},
      "outputs": [
        {
          "name": "stderr",
          "output_type": "stream",
          "text": [
            "/tmp/ipykernel_25533/1463219622.py:1: FutureWarning: The default value of regex will change from True to False in a future version.\n",
            "  df['session_no'] = df['session_title'].str.replace(\"( ).*\",\"\")\n"
          ]
        },
        {
          "data": {
            "text/html": [
              "<div>\n",
              "<style scoped>\n",
              "    .dataframe tbody tr th:only-of-type {\n",
              "        vertical-align: middle;\n",
              "    }\n",
              "\n",
              "    .dataframe tbody tr th {\n",
              "        vertical-align: top;\n",
              "    }\n",
              "\n",
              "    .dataframe thead th {\n",
              "        text-align: right;\n",
              "    }\n",
              "</style>\n",
              "<table border=\"1\" class=\"dataframe\">\n",
              "  <thead>\n",
              "    <tr style=\"text-align: right;\">\n",
              "      <th></th>\n",
              "      <th>paragraph_id</th>\n",
              "      <th>item_of_business</th>\n",
              "      <th>person_id</th>\n",
              "      <th>first_name</th>\n",
              "      <th>last_name</th>\n",
              "      <th>council</th>\n",
              "      <th>party</th>\n",
              "      <th>in_admin_role</th>\n",
              "      <th>text</th>\n",
              "      <th>date</th>\n",
              "      <th>session_title</th>\n",
              "      <th>session_id</th>\n",
              "      <th>session_no</th>\n",
              "    </tr>\n",
              "  </thead>\n",
              "  <tbody>\n",
              "    <tr>\n",
              "      <th>0</th>\n",
              "      <td>203298</td>\n",
              "      <td>1. Mitteilungen</td>\n",
              "      <td>20281</td>\n",
              "      <td>Werner</td>\n",
              "      <td>Hegetschweiler</td>\n",
              "      <td>Kantonsrat</td>\n",
              "      <td>FDP</td>\n",
              "      <td>False</td>\n",
              "      <td>, Alterspräsident, eröffnet die erste Kantonsr...</td>\n",
              "      <td>1995-05-08</td>\n",
              "      <td>1. Ratssitzung</td>\n",
              "      <td>1595</td>\n",
              "      <td>1.</td>\n",
              "    </tr>\n",
              "    <tr>\n",
              "      <th>1</th>\n",
              "      <td>203324</td>\n",
              "      <td>1. Mitteilungen</td>\n",
              "      <td>None</td>\n",
              "      <td>None</td>\n",
              "      <td>None</td>\n",
              "      <td>None</td>\n",
              "      <td>None</td>\n",
              "      <td>False</td>\n",
              "      <td>Dank der modernen Datenspeicherungstechnik be...</td>\n",
              "      <td>1995-05-08</td>\n",
              "      <td>1. Ratssitzung</td>\n",
              "      <td>1595</td>\n",
              "      <td>1.</td>\n",
              "    </tr>\n",
              "    <tr>\n",
              "      <th>2</th>\n",
              "      <td>203326</td>\n",
              "      <td>1. Mitteilungen</td>\n",
              "      <td>None</td>\n",
              "      <td>None</td>\n",
              "      <td>None</td>\n",
              "      <td>None</td>\n",
              "      <td>None</td>\n",
              "      <td>False</td>\n",
              "      <td>• Das Ansehen der Politiker in der Bevölkerung...</td>\n",
              "      <td>1995-05-08</td>\n",
              "      <td>1. Ratssitzung</td>\n",
              "      <td>1595</td>\n",
              "      <td>1.</td>\n",
              "    </tr>\n",
              "    <tr>\n",
              "      <th>3</th>\n",
              "      <td>203346</td>\n",
              "      <td>1. Mitteilungen</td>\n",
              "      <td>None</td>\n",
              "      <td>None</td>\n",
              "      <td>None</td>\n",
              "      <td>None</td>\n",
              "      <td>None</td>\n",
              "      <td>False</td>\n",
              "      <td>Wir müssen unseren Haushalt wieder in Ordnung...</td>\n",
              "      <td>1995-05-08</td>\n",
              "      <td>1. Ratssitzung</td>\n",
              "      <td>1595</td>\n",
              "      <td>1.</td>\n",
              "    </tr>\n",
              "    <tr>\n",
              "      <th>4</th>\n",
              "      <td>203361</td>\n",
              "      <td>2. Wahl des Büros des Kantonsrates (Präsidium,...</td>\n",
              "      <td>20281</td>\n",
              "      <td>Werner</td>\n",
              "      <td>Hegetschweiler</td>\n",
              "      <td>Kantonsrat</td>\n",
              "      <td>FDP</td>\n",
              "      <td>False</td>\n",
              "      <td>: Gemäss § 71 des Gesetzes über die Wahlen und...</td>\n",
              "      <td>1995-05-08</td>\n",
              "      <td>1. Ratssitzung</td>\n",
              "      <td>1595</td>\n",
              "      <td>1.</td>\n",
              "    </tr>\n",
              "    <tr>\n",
              "      <th>...</th>\n",
              "      <td>...</td>\n",
              "      <td>...</td>\n",
              "      <td>...</td>\n",
              "      <td>...</td>\n",
              "      <td>...</td>\n",
              "      <td>...</td>\n",
              "      <td>...</td>\n",
              "      <td>...</td>\n",
              "      <td>...</td>\n",
              "      <td>...</td>\n",
              "      <td>...</td>\n",
              "      <td>...</td>\n",
              "      <td>...</td>\n",
              "    </tr>\n",
              "    <tr>\n",
              "      <th>193496</th>\n",
              "      <td>349083</td>\n",
              "      <td>4. Verschiedenes</td>\n",
              "      <td>21998</td>\n",
              "      <td>Esther</td>\n",
              "      <td>Guyer</td>\n",
              "      <td>Kantonsrat</td>\n",
              "      <td>Grüne</td>\n",
              "      <td>True</td>\n",
              "      <td>Vielen herzlichen Dank. Und jetzt hören wir n...</td>\n",
              "      <td>2023-04-24</td>\n",
              "      <td>227. Ratssitzung</td>\n",
              "      <td>2739</td>\n",
              "      <td>227.</td>\n",
              "    </tr>\n",
              "    <tr>\n",
              "      <th>193497</th>\n",
              "      <td>349084</td>\n",
              "      <td>4. Verschiedenes</td>\n",
              "      <td>None</td>\n",
              "      <td>None</td>\n",
              "      <td>None</td>\n",
              "      <td>None</td>\n",
              "      <td>None</td>\n",
              "      <td>False</td>\n",
              "      <td>(Es folgt eine Musikeinlage, Applaus.)</td>\n",
              "      <td>2023-04-24</td>\n",
              "      <td>227. Ratssitzung</td>\n",
              "      <td>2739</td>\n",
              "      <td>227.</td>\n",
              "    </tr>\n",
              "    <tr>\n",
              "      <th>193498</th>\n",
              "      <td>349085</td>\n",
              "      <td>4. Verschiedenes</td>\n",
              "      <td>None</td>\n",
              "      <td>None</td>\n",
              "      <td>None</td>\n",
              "      <td>None</td>\n",
              "      <td>None</td>\n",
              "      <td>False</td>\n",
              "      <td>12.50 Uhr</td>\n",
              "      <td>2023-04-24</td>\n",
              "      <td>227. Ratssitzung</td>\n",
              "      <td>2739</td>\n",
              "      <td>227.</td>\n",
              "    </tr>\n",
              "    <tr>\n",
              "      <th>193499</th>\n",
              "      <td>349086</td>\n",
              "      <td>4. Verschiedenes</td>\n",
              "      <td>None</td>\n",
              "      <td>None</td>\n",
              "      <td>None</td>\n",
              "      <td>None</td>\n",
              "      <td>None</td>\n",
              "      <td>False</td>\n",
              "      <td>Zürich, den 24. April 2023 Die Protokollführer...</td>\n",
              "      <td>2023-04-24</td>\n",
              "      <td>227. Ratssitzung</td>\n",
              "      <td>2739</td>\n",
              "      <td>227.</td>\n",
              "    </tr>\n",
              "    <tr>\n",
              "      <th>193500</th>\n",
              "      <td>349087</td>\n",
              "      <td>4. Verschiedenes</td>\n",
              "      <td>None</td>\n",
              "      <td>None</td>\n",
              "      <td>None</td>\n",
              "      <td>None</td>\n",
              "      <td>None</td>\n",
              "      <td>False</td>\n",
              "      <td>Von der Protokollprüfungskommission der Geschä...</td>\n",
              "      <td>2023-04-24</td>\n",
              "      <td>227. Ratssitzung</td>\n",
              "      <td>2739</td>\n",
              "      <td>227.</td>\n",
              "    </tr>\n",
              "  </tbody>\n",
              "</table>\n",
              "<p>193501 rows × 13 columns</p>\n",
              "</div>"
            ],
            "text/plain": [
              "        paragraph_id                                   item_of_business  \\\n",
              "0             203298                                    1. Mitteilungen   \n",
              "1             203324                                    1. Mitteilungen   \n",
              "2             203326                                    1. Mitteilungen   \n",
              "3             203346                                    1. Mitteilungen   \n",
              "4             203361  2. Wahl des Büros des Kantonsrates (Präsidium,...   \n",
              "...              ...                                                ...   \n",
              "193496        349083                                   4. Verschiedenes   \n",
              "193497        349084                                   4. Verschiedenes   \n",
              "193498        349085                                   4. Verschiedenes   \n",
              "193499        349086                                   4. Verschiedenes   \n",
              "193500        349087                                   4. Verschiedenes   \n",
              "\n",
              "       person_id first_name       last_name     council  party  in_admin_role  \\\n",
              "0          20281     Werner  Hegetschweiler  Kantonsrat    FDP          False   \n",
              "1           None       None            None        None   None          False   \n",
              "2           None       None            None        None   None          False   \n",
              "3           None       None            None        None   None          False   \n",
              "4          20281     Werner  Hegetschweiler  Kantonsrat    FDP          False   \n",
              "...          ...        ...             ...         ...    ...            ...   \n",
              "193496     21998     Esther           Guyer  Kantonsrat  Grüne           True   \n",
              "193497      None       None            None        None   None          False   \n",
              "193498      None       None            None        None   None          False   \n",
              "193499      None       None            None        None   None          False   \n",
              "193500      None       None            None        None   None          False   \n",
              "\n",
              "                                                     text       date  \\\n",
              "0       , Alterspräsident, eröffnet die erste Kantonsr... 1995-05-08   \n",
              "1        Dank der modernen Datenspeicherungstechnik be... 1995-05-08   \n",
              "2       • Das Ansehen der Politiker in der Bevölkerung... 1995-05-08   \n",
              "3        Wir müssen unseren Haushalt wieder in Ordnung... 1995-05-08   \n",
              "4       : Gemäss § 71 des Gesetzes über die Wahlen und... 1995-05-08   \n",
              "...                                                   ...        ...   \n",
              "193496   Vielen herzlichen Dank. Und jetzt hören wir n... 2023-04-24   \n",
              "193497             (Es folgt eine Musikeinlage, Applaus.) 2023-04-24   \n",
              "193498                                          12.50 Uhr 2023-04-24   \n",
              "193499  Zürich, den 24. April 2023 Die Protokollführer... 2023-04-24   \n",
              "193500  Von der Protokollprüfungskommission der Geschä... 2023-04-24   \n",
              "\n",
              "           session_title  session_id session_no  \n",
              "0         1. Ratssitzung        1595         1.  \n",
              "1         1. Ratssitzung        1595         1.  \n",
              "2         1. Ratssitzung        1595         1.  \n",
              "3         1. Ratssitzung        1595         1.  \n",
              "4         1. Ratssitzung        1595         1.  \n",
              "...                  ...         ...        ...  \n",
              "193496  227. Ratssitzung        2739       227.  \n",
              "193497  227. Ratssitzung        2739       227.  \n",
              "193498  227. Ratssitzung        2739       227.  \n",
              "193499  227. Ratssitzung        2739       227.  \n",
              "193500  227. Ratssitzung        2739       227.  \n",
              "\n",
              "[193501 rows x 13 columns]"
            ]
          },
          "execution_count": 18,
          "metadata": {},
          "output_type": "execute_result"
        }
      ],
      "source": [
        "df['session_no'] = df['session_title'].str.replace(\"( ).*\",\"\")\n",
        "df"
      ]
    },
    {
      "cell_type": "code",
      "execution_count": 19,
      "metadata": {},
      "outputs": [
        {
          "data": {
            "text/plain": [
              "<matplotlib.legend.Legend at 0x7f4840f6ec20>"
            ]
          },
          "execution_count": 19,
          "metadata": {},
          "output_type": "execute_result"
        },
        {
          "data": {
            "image/png": "[encoded data removed]",
            "text/plain": [
              "<Figure size 1152x576 with 1 Axes>"
            ]
          },
          "metadata": {
            "needs_background": "light"
          },
          "output_type": "display_data"
        }
      ],
      "source": [
        "\n",
        "ax = df[(df['date'].dt.year == 2022) & (df['party'].isin([\"GLP\", \"Grüne\"]))].groupby(['session_no', 'party'])['paragraph_id'].size().unstack().plot(kind='bar', stacked=False, figsize=(16, 8))\n",
        "ax.set_xlabel(\"Session Number\")\n",
        "ax.set_ylabel(\"Number of Speeches\")\n",
        "ax.legend(title='Party')"
      ]
    },
    {
      "cell_type": "code",
      "execution_count": 20,
      "metadata": {},
      "outputs": [
        {
          "data": {
            "text/plain": [
              "<matplotlib.legend.Legend at 0x7f4840173070>"
            ]
          },
          "execution_count": 20,
          "metadata": {},
          "output_type": "execute_result"
        },
        {
          "data": {
            "image/png": "[encoded data removed]",
            "text/plain": [
              "<Figure size 1152x576 with 1 Axes>"
            ]
          },
          "metadata": {
            "needs_background": "light"
          },
          "output_type": "display_data"
        }
      ],
      "source": [
        "\n",
        "ax = df[(df['date'].dt.year == 2022) & (df['party'].isin([\"GLP\", \"Grüne\"])) & (df['in_admin_role'] == False)].groupby(['session_no', 'party'])['paragraph_id'].size().unstack().plot(kind='bar', stacked=False, figsize=(16, 8))\n",
        "ax.set_xlabel(\"Session Number\")\n",
        "ax.set_ylabel(\"Number of Speeches\")\n",
        "ax.set_yticks(ax.get_yticks()[::2])\n",
        "ax.legend(title='Party')"
      ]
    },
    {
      "cell_type": "code",
      "execution_count": 21,
      "metadata": {},
      "outputs": [
        {
          "data": {
            "text/html": [
              "<div>\n",
              "<style scoped>\n",
              "    .dataframe tbody tr th:only-of-type {\n",
              "        vertical-align: middle;\n",
              "    }\n",
              "\n",
              "    .dataframe tbody tr th {\n",
              "        vertical-align: top;\n",
              "    }\n",
              "\n",
              "    .dataframe thead th {\n",
              "        text-align: right;\n",
              "    }\n",
              "</style>\n",
              "<table border=\"1\" class=\"dataframe\">\n",
              "  <thead>\n",
              "    <tr style=\"text-align: right;\">\n",
              "      <th></th>\n",
              "      <th>paragraph_id</th>\n",
              "      <th>item_of_business</th>\n",
              "      <th>person_id</th>\n",
              "      <th>first_name</th>\n",
              "      <th>last_name</th>\n",
              "      <th>council</th>\n",
              "      <th>party</th>\n",
              "      <th>in_admin_role</th>\n",
              "      <th>text</th>\n",
              "      <th>date</th>\n",
              "      <th>session_title</th>\n",
              "      <th>session_id</th>\n",
              "      <th>session_no</th>\n",
              "    </tr>\n",
              "  </thead>\n",
              "  <tbody>\n",
              "    <tr>\n",
              "      <th>184314</th>\n",
              "      <td>318658</td>\n",
              "      <td>5. Bewilligungsverfahren in Tierversuchen</td>\n",
              "      <td>22214</td>\n",
              "      <td>Urs</td>\n",
              "      <td>Hans</td>\n",
              "      <td>Kantonsrat</td>\n",
              "      <td>parteilos</td>\n",
              "      <td>False</td>\n",
              "      <td>Ich spreche eigentlich nur, weil die Initiati...</td>\n",
              "      <td>2022-01-24</td>\n",
              "      <td>157. Ratssitzung</td>\n",
              "      <td>654</td>\n",
              "      <td>157.</td>\n",
              "    </tr>\n",
              "    <tr>\n",
              "      <th>184316</th>\n",
              "      <td>318660</td>\n",
              "      <td>5. Bewilligungsverfahren in Tierversuchen</td>\n",
              "      <td>22214</td>\n",
              "      <td>Urs</td>\n",
              "      <td>Hans</td>\n",
              "      <td>Kantonsrat</td>\n",
              "      <td>parteilos</td>\n",
              "      <td>False</td>\n",
              "      <td>Ich möchte meinem Bauernkollegen vehement wid...</td>\n",
              "      <td>2022-01-24</td>\n",
              "      <td>157. Ratssitzung</td>\n",
              "      <td>654</td>\n",
              "      <td>157.</td>\n",
              "    </tr>\n",
              "    <tr>\n",
              "      <th>185839</th>\n",
              "      <td>313658</td>\n",
              "      <td>8. Standesinitiative zur definitiven Aufhebung...</td>\n",
              "      <td>22214</td>\n",
              "      <td>Urs</td>\n",
              "      <td>Hans</td>\n",
              "      <td>Kantonsrat</td>\n",
              "      <td>parteilos</td>\n",
              "      <td>False</td>\n",
              "      <td>vom 28. Juni 2021 \\nKR-Nr. 257/2021</td>\n",
              "      <td>2022-03-28</td>\n",
              "      <td>169. Ratssitzung</td>\n",
              "      <td>638</td>\n",
              "      <td>169.</td>\n",
              "    </tr>\n",
              "    <tr>\n",
              "      <th>185840</th>\n",
              "      <td>313736</td>\n",
              "      <td>8. Standesinitiative zur definitiven Aufhebung...</td>\n",
              "      <td>22214</td>\n",
              "      <td>Urs</td>\n",
              "      <td>Hans</td>\n",
              "      <td>Kantonsrat</td>\n",
              "      <td>parteilos</td>\n",
              "      <td>False</td>\n",
              "      <td>Ich lebte einmal einen Sommer lang in Kanada....</td>\n",
              "      <td>2022-03-28</td>\n",
              "      <td>169. Ratssitzung</td>\n",
              "      <td>638</td>\n",
              "      <td>169.</td>\n",
              "    </tr>\n",
              "    <tr>\n",
              "      <th>185862</th>\n",
              "      <td>314269</td>\n",
              "      <td>10. Einreichung einer Standesinitiative zu ein...</td>\n",
              "      <td>22214</td>\n",
              "      <td>Urs</td>\n",
              "      <td>Hans</td>\n",
              "      <td>Kantonsrat</td>\n",
              "      <td>parteilos</td>\n",
              "      <td>False</td>\n",
              "      <td>vom 12. Juli 2021 \\nKR-Nr. 283/2021</td>\n",
              "      <td>2022-03-28</td>\n",
              "      <td>169. Ratssitzung</td>\n",
              "      <td>638</td>\n",
              "      <td>169.</td>\n",
              "    </tr>\n",
              "    <tr>\n",
              "      <th>185863</th>\n",
              "      <td>314276</td>\n",
              "      <td>10. Einreichung einer Standesinitiative zu ein...</td>\n",
              "      <td>22214</td>\n",
              "      <td>Urs</td>\n",
              "      <td>Hans</td>\n",
              "      <td>Kantonsrat</td>\n",
              "      <td>parteilos</td>\n",
              "      <td>False</td>\n",
              "      <td>Ich möchte noch (auf ein Votum bei der Behand...</td>\n",
              "      <td>2022-03-28</td>\n",
              "      <td>169. Ratssitzung</td>\n",
              "      <td>638</td>\n",
              "      <td>169.</td>\n",
              "    </tr>\n",
              "    <tr>\n",
              "      <th>185869</th>\n",
              "      <td>314356</td>\n",
              "      <td>11. Sofortiges Verbot der Anwendung von PCR-Te...</td>\n",
              "      <td>22214</td>\n",
              "      <td>Urs</td>\n",
              "      <td>Hans</td>\n",
              "      <td>Kantonsrat</td>\n",
              "      <td>parteilos</td>\n",
              "      <td>False</td>\n",
              "      <td>vom 23. August 2021 \\nKR-Nr. 301/2021</td>\n",
              "      <td>2022-03-28</td>\n",
              "      <td>169. Ratssitzung</td>\n",
              "      <td>638</td>\n",
              "      <td>169.</td>\n",
              "    </tr>\n",
              "    <tr>\n",
              "      <th>185870</th>\n",
              "      <td>314360</td>\n",
              "      <td>11. Sofortiges Verbot der Anwendung von PCR-Te...</td>\n",
              "      <td>22214</td>\n",
              "      <td>Urs</td>\n",
              "      <td>Hans</td>\n",
              "      <td>Kantonsrat</td>\n",
              "      <td>parteilos</td>\n",
              "      <td>False</td>\n",
              "      <td>In der Schweiz wird durch Bund, Kantone, viel...</td>\n",
              "      <td>2022-03-28</td>\n",
              "      <td>169. Ratssitzung</td>\n",
              "      <td>638</td>\n",
              "      <td>169.</td>\n",
              "    </tr>\n",
              "    <tr>\n",
              "      <th>188605</th>\n",
              "      <td>317855</td>\n",
              "      <td>6. Modellversuch «Bedingungsloses Grundeinkommen»</td>\n",
              "      <td>22214</td>\n",
              "      <td>Urs</td>\n",
              "      <td>Hans</td>\n",
              "      <td>Kantonsrat</td>\n",
              "      <td>parteilos</td>\n",
              "      <td>False</td>\n",
              "      <td>Ich habe ein paar Fragen zu Florian Heer und ...</td>\n",
              "      <td>2022-09-12</td>\n",
              "      <td>190. Ratssitzung</td>\n",
              "      <td>685</td>\n",
              "      <td>190.</td>\n",
              "    </tr>\n",
              "    <tr>\n",
              "      <th>188948</th>\n",
              "      <td>315528</td>\n",
              "      <td>4. Trinkwasserqualität und mögliche Gesundheit...</td>\n",
              "      <td>22214</td>\n",
              "      <td>Urs</td>\n",
              "      <td>Hans</td>\n",
              "      <td>Kantonsrat</td>\n",
              "      <td>parteilos</td>\n",
              "      <td>False</td>\n",
              "      <td>Ich möchte die Bauern hier im Saal doch etwas...</td>\n",
              "      <td>2022-09-26</td>\n",
              "      <td>193. Ratssitzung</td>\n",
              "      <td>689</td>\n",
              "      <td>193.</td>\n",
              "    </tr>\n",
              "    <tr>\n",
              "      <th>188980</th>\n",
              "      <td>316064</td>\n",
              "      <td>9. Geschäftsbericht der Psychiatrischen Univer...</td>\n",
              "      <td>22214</td>\n",
              "      <td>Urs</td>\n",
              "      <td>Hans</td>\n",
              "      <td>Kantonsrat</td>\n",
              "      <td>parteilos</td>\n",
              "      <td>False</td>\n",
              "      <td>Zu den erwähnten Spitälern und deren Berichte...</td>\n",
              "      <td>2022-09-26</td>\n",
              "      <td>192. Ratssitzung</td>\n",
              "      <td>686</td>\n",
              "      <td>192.</td>\n",
              "    </tr>\n",
              "    <tr>\n",
              "      <th>189080</th>\n",
              "      <td>314870</td>\n",
              "      <td>2. Wassergesetz (WsG)</td>\n",
              "      <td>22214</td>\n",
              "      <td>Urs</td>\n",
              "      <td>Hans</td>\n",
              "      <td>Kantonsrat</td>\n",
              "      <td>parteilos</td>\n",
              "      <td>False</td>\n",
              "      <td>Als Landwirt möchte mich auch noch in diese D...</td>\n",
              "      <td>2022-10-03</td>\n",
              "      <td>195. Ratssitzung</td>\n",
              "      <td>690</td>\n",
              "      <td>195.</td>\n",
              "    </tr>\n",
              "    <tr>\n",
              "      <th>189411</th>\n",
              "      <td>317724</td>\n",
              "      <td>3. Rettungsschirm Axpo: Ist der Kanton Zürich ...</td>\n",
              "      <td>22214</td>\n",
              "      <td>Urs</td>\n",
              "      <td>Hans</td>\n",
              "      <td>Kantonsrat</td>\n",
              "      <td>parteilos</td>\n",
              "      <td>False</td>\n",
              "      <td>Alle Energien hängen zusammen, und was wir hi...</td>\n",
              "      <td>2022-10-24</td>\n",
              "      <td>196. Ratssitzung</td>\n",
              "      <td>757</td>\n",
              "      <td>196.</td>\n",
              "    </tr>\n",
              "    <tr>\n",
              "      <th>189686</th>\n",
              "      <td>317126</td>\n",
              "      <td>9. Verschiedenes</td>\n",
              "      <td>22214</td>\n",
              "      <td>Urs</td>\n",
              "      <td>Hans</td>\n",
              "      <td>Kantonsrat</td>\n",
              "      <td>parteilos</td>\n",
              "      <td>False</td>\n",
              "      <td>Es ist aus dem Sack und die Spatzen pfeifen e...</td>\n",
              "      <td>2022-10-31</td>\n",
              "      <td>197. Ratssitzung</td>\n",
              "      <td>759</td>\n",
              "      <td>197.</td>\n",
              "    </tr>\n",
              "    <tr>\n",
              "      <th>191324</th>\n",
              "      <td>320412</td>\n",
              "      <td>9. Bessere Löhne für die Pflege. Jetzt.</td>\n",
              "      <td>22214</td>\n",
              "      <td>Urs</td>\n",
              "      <td>Hans</td>\n",
              "      <td>Kantonsrat</td>\n",
              "      <td>parteilos</td>\n",
              "      <td>False</td>\n",
              "      <td>Also, meine Leute, meine lieben Kantonsratsko...</td>\n",
              "      <td>2022-12-19</td>\n",
              "      <td>209. Ratssitzung</td>\n",
              "      <td>740</td>\n",
              "      <td>209.</td>\n",
              "    </tr>\n",
              "    <tr>\n",
              "      <th>191326</th>\n",
              "      <td>320415</td>\n",
              "      <td>9. Bessere Löhne für die Pflege. Jetzt.</td>\n",
              "      <td>22214</td>\n",
              "      <td>Urs</td>\n",
              "      <td>Hans</td>\n",
              "      <td>Kantonsrat</td>\n",
              "      <td>parteilos</td>\n",
              "      <td>False</td>\n",
              "      <td>Der Zustand wurde verursacht durch Maskentrag...</td>\n",
              "      <td>2022-12-19</td>\n",
              "      <td>209. Ratssitzung</td>\n",
              "      <td>740</td>\n",
              "      <td>209.</td>\n",
              "    </tr>\n",
              "  </tbody>\n",
              "</table>\n",
              "</div>"
            ],
            "text/plain": [
              "        paragraph_id                                   item_of_business  \\\n",
              "184314        318658          5. Bewilligungsverfahren in Tierversuchen   \n",
              "184316        318660          5. Bewilligungsverfahren in Tierversuchen   \n",
              "185839        313658  8. Standesinitiative zur definitiven Aufhebung...   \n",
              "185840        313736  8. Standesinitiative zur definitiven Aufhebung...   \n",
              "185862        314269  10. Einreichung einer Standesinitiative zu ein...   \n",
              "185863        314276  10. Einreichung einer Standesinitiative zu ein...   \n",
              "185869        314356  11. Sofortiges Verbot der Anwendung von PCR-Te...   \n",
              "185870        314360  11. Sofortiges Verbot der Anwendung von PCR-Te...   \n",
              "188605        317855  6. Modellversuch «Bedingungsloses Grundeinkommen»   \n",
              "188948        315528  4. Trinkwasserqualität und mögliche Gesundheit...   \n",
              "188980        316064  9. Geschäftsbericht der Psychiatrischen Univer...   \n",
              "189080        314870                              2. Wassergesetz (WsG)   \n",
              "189411        317724  3. Rettungsschirm Axpo: Ist der Kanton Zürich ...   \n",
              "189686        317126                                   9. Verschiedenes   \n",
              "191324        320412            9. Bessere Löhne für die Pflege. Jetzt.   \n",
              "191326        320415            9. Bessere Löhne für die Pflege. Jetzt.   \n",
              "\n",
              "       person_id first_name last_name     council      party  in_admin_role  \\\n",
              "184314     22214        Urs      Hans  Kantonsrat  parteilos          False   \n",
              "184316     22214        Urs      Hans  Kantonsrat  parteilos          False   \n",
              "185839     22214        Urs      Hans  Kantonsrat  parteilos          False   \n",
              "185840     22214        Urs      Hans  Kantonsrat  parteilos          False   \n",
              "185862     22214        Urs      Hans  Kantonsrat  parteilos          False   \n",
              "185863     22214        Urs      Hans  Kantonsrat  parteilos          False   \n",
              "185869     22214        Urs      Hans  Kantonsrat  parteilos          False   \n",
              "185870     22214        Urs      Hans  Kantonsrat  parteilos          False   \n",
              "188605     22214        Urs      Hans  Kantonsrat  parteilos          False   \n",
              "188948     22214        Urs      Hans  Kantonsrat  parteilos          False   \n",
              "188980     22214        Urs      Hans  Kantonsrat  parteilos          False   \n",
              "189080     22214        Urs      Hans  Kantonsrat  parteilos          False   \n",
              "189411     22214        Urs      Hans  Kantonsrat  parteilos          False   \n",
              "189686     22214        Urs      Hans  Kantonsrat  parteilos          False   \n",
              "191324     22214        Urs      Hans  Kantonsrat  parteilos          False   \n",
              "191326     22214        Urs      Hans  Kantonsrat  parteilos          False   \n",
              "\n",
              "                                                     text       date  \\\n",
              "184314   Ich spreche eigentlich nur, weil die Initiati... 2022-01-24   \n",
              "184316   Ich möchte meinem Bauernkollegen vehement wid... 2022-01-24   \n",
              "185839                vom 28. Juni 2021 \\nKR-Nr. 257/2021 2022-03-28   \n",
              "185840   Ich lebte einmal einen Sommer lang in Kanada.... 2022-03-28   \n",
              "185862                vom 12. Juli 2021 \\nKR-Nr. 283/2021 2022-03-28   \n",
              "185863   Ich möchte noch (auf ein Votum bei der Behand... 2022-03-28   \n",
              "185869              vom 23. August 2021 \\nKR-Nr. 301/2021 2022-03-28   \n",
              "185870   In der Schweiz wird durch Bund, Kantone, viel... 2022-03-28   \n",
              "188605   Ich habe ein paar Fragen zu Florian Heer und ... 2022-09-12   \n",
              "188948   Ich möchte die Bauern hier im Saal doch etwas... 2022-09-26   \n",
              "188980   Zu den erwähnten Spitälern und deren Berichte... 2022-09-26   \n",
              "189080   Als Landwirt möchte mich auch noch in diese D... 2022-10-03   \n",
              "189411   Alle Energien hängen zusammen, und was wir hi... 2022-10-24   \n",
              "189686   Es ist aus dem Sack und die Spatzen pfeifen e... 2022-10-31   \n",
              "191324   Also, meine Leute, meine lieben Kantonsratsko... 2022-12-19   \n",
              "191326   Der Zustand wurde verursacht durch Maskentrag... 2022-12-19   \n",
              "\n",
              "           session_title  session_id session_no  \n",
              "184314  157. Ratssitzung         654       157.  \n",
              "184316  157. Ratssitzung         654       157.  \n",
              "185839  169. Ratssitzung         638       169.  \n",
              "185840  169. Ratssitzung         638       169.  \n",
              "185862  169. Ratssitzung         638       169.  \n",
              "185863  169. Ratssitzung         638       169.  \n",
              "185869  169. Ratssitzung         638       169.  \n",
              "185870  169. Ratssitzung         638       169.  \n",
              "188605  190. Ratssitzung         685       190.  \n",
              "188948  193. Ratssitzung         689       193.  \n",
              "188980  192. Ratssitzung         686       192.  \n",
              "189080  195. Ratssitzung         690       195.  \n",
              "189411  196. Ratssitzung         757       196.  \n",
              "189686  197. Ratssitzung         759       197.  \n",
              "191324  209. Ratssitzung         740       209.  \n",
              "191326  209. Ratssitzung         740       209.  "
            ]
          },
          "execution_count": 21,
          "metadata": {},
          "output_type": "execute_result"
        }
      ],
      "source": [
        "df[(df['date'].dt.year == 2022) & (df['in_admin_role'] == False) & (df[\"council\"] == \"Kantonsrat\") & (df['party']==\"parteilos\")]"
      ]
    },
    {
      "cell_type": "code",
      "execution_count": 22,
      "metadata": {},
      "outputs": [
        {
          "data": {
            "text/html": [
              "<div>\n",
              "<style scoped>\n",
              "    .dataframe tbody tr th:only-of-type {\n",
              "        vertical-align: middle;\n",
              "    }\n",
              "\n",
              "    .dataframe tbody tr th {\n",
              "        vertical-align: top;\n",
              "    }\n",
              "\n",
              "    .dataframe thead th {\n",
              "        text-align: right;\n",
              "    }\n",
              "</style>\n",
              "<table border=\"1\" class=\"dataframe\">\n",
              "  <thead>\n",
              "    <tr style=\"text-align: right;\">\n",
              "      <th></th>\n",
              "      <th>party</th>\n",
              "      <th>size</th>\n",
              "    </tr>\n",
              "  </thead>\n",
              "  <tbody>\n",
              "    <tr>\n",
              "      <th>8</th>\n",
              "      <td>SVP</td>\n",
              "      <td>797</td>\n",
              "    </tr>\n",
              "    <tr>\n",
              "      <th>4</th>\n",
              "      <td>FDP</td>\n",
              "      <td>503</td>\n",
              "    </tr>\n",
              "    <tr>\n",
              "      <th>7</th>\n",
              "      <td>SP</td>\n",
              "      <td>476</td>\n",
              "    </tr>\n",
              "    <tr>\n",
              "      <th>6</th>\n",
              "      <td>Grüne</td>\n",
              "      <td>463</td>\n",
              "    </tr>\n",
              "    <tr>\n",
              "      <th>5</th>\n",
              "      <td>GLP</td>\n",
              "      <td>336</td>\n",
              "    </tr>\n",
              "    <tr>\n",
              "      <th>0</th>\n",
              "      <td>AL</td>\n",
              "      <td>273</td>\n",
              "    </tr>\n",
              "    <tr>\n",
              "      <th>1</th>\n",
              "      <td>Die Mitte</td>\n",
              "      <td>179</td>\n",
              "    </tr>\n",
              "    <tr>\n",
              "      <th>3</th>\n",
              "      <td>EVP</td>\n",
              "      <td>178</td>\n",
              "    </tr>\n",
              "    <tr>\n",
              "      <th>2</th>\n",
              "      <td>EDU</td>\n",
              "      <td>45</td>\n",
              "    </tr>\n",
              "    <tr>\n",
              "      <th>9</th>\n",
              "      <td>parteilos</td>\n",
              "      <td>16</td>\n",
              "    </tr>\n",
              "  </tbody>\n",
              "</table>\n",
              "</div>"
            ],
            "text/plain": [
              "       party  size\n",
              "8        SVP   797\n",
              "4        FDP   503\n",
              "7         SP   476\n",
              "6      Grüne   463\n",
              "5        GLP   336\n",
              "0         AL   273\n",
              "1  Die Mitte   179\n",
              "3        EVP   178\n",
              "2        EDU    45\n",
              "9  parteilos    16"
            ]
          },
          "execution_count": 22,
          "metadata": {},
          "output_type": "execute_result"
        }
      ],
      "source": [
        "df_22_parties = df[(df['date'].dt.year == 2022) & (df['in_admin_role'] == False) & (df[\"council\"] == \"Kantonsrat\")].groupby(['party'], as_index=False)['paragraph_id'].size().sort_values(by='size', ascending=False)\n",
        "df_22_parties"
      ]
    },
    {
      "cell_type": "code",
      "execution_count": 23,
      "metadata": {},
      "outputs": [
        {
          "data": {
            "text/html": [
              "<div>\n",
              "<style scoped>\n",
              "    .dataframe tbody tr th:only-of-type {\n",
              "        vertical-align: middle;\n",
              "    }\n",
              "\n",
              "    .dataframe tbody tr th {\n",
              "        vertical-align: top;\n",
              "    }\n",
              "\n",
              "    .dataframe thead th {\n",
              "        text-align: right;\n",
              "    }\n",
              "</style>\n",
              "<table border=\"1\" class=\"dataframe\">\n",
              "  <thead>\n",
              "    <tr style=\"text-align: right;\">\n",
              "      <th></th>\n",
              "      <th>party</th>\n",
              "      <th>size</th>\n",
              "      <th>seats</th>\n",
              "    </tr>\n",
              "  </thead>\n",
              "  <tbody>\n",
              "    <tr>\n",
              "      <th>8</th>\n",
              "      <td>SVP</td>\n",
              "      <td>797</td>\n",
              "      <td>45</td>\n",
              "    </tr>\n",
              "    <tr>\n",
              "      <th>4</th>\n",
              "      <td>FDP</td>\n",
              "      <td>503</td>\n",
              "      <td>29</td>\n",
              "    </tr>\n",
              "    <tr>\n",
              "      <th>7</th>\n",
              "      <td>SP</td>\n",
              "      <td>476</td>\n",
              "      <td>35</td>\n",
              "    </tr>\n",
              "    <tr>\n",
              "      <th>6</th>\n",
              "      <td>Grüne</td>\n",
              "      <td>463</td>\n",
              "      <td>21</td>\n",
              "    </tr>\n",
              "    <tr>\n",
              "      <th>5</th>\n",
              "      <td>GLP</td>\n",
              "      <td>336</td>\n",
              "      <td>23</td>\n",
              "    </tr>\n",
              "    <tr>\n",
              "      <th>0</th>\n",
              "      <td>AL</td>\n",
              "      <td>273</td>\n",
              "      <td>6</td>\n",
              "    </tr>\n",
              "    <tr>\n",
              "      <th>1</th>\n",
              "      <td>Die Mitte</td>\n",
              "      <td>179</td>\n",
              "      <td>8</td>\n",
              "    </tr>\n",
              "    <tr>\n",
              "      <th>3</th>\n",
              "      <td>EVP</td>\n",
              "      <td>178</td>\n",
              "      <td>8</td>\n",
              "    </tr>\n",
              "    <tr>\n",
              "      <th>2</th>\n",
              "      <td>EDU</td>\n",
              "      <td>45</td>\n",
              "      <td>4</td>\n",
              "    </tr>\n",
              "    <tr>\n",
              "      <th>9</th>\n",
              "      <td>parteilos</td>\n",
              "      <td>16</td>\n",
              "      <td>1</td>\n",
              "    </tr>\n",
              "  </tbody>\n",
              "</table>\n",
              "</div>"
            ],
            "text/plain": [
              "       party  size  seats\n",
              "8        SVP   797     45\n",
              "4        FDP   503     29\n",
              "7         SP   476     35\n",
              "6      Grüne   463     21\n",
              "5        GLP   336     23\n",
              "0         AL   273      6\n",
              "1  Die Mitte   179      8\n",
              "3        EVP   178      8\n",
              "2        EDU    45      4\n",
              "9  parteilos    16      1"
            ]
          },
          "execution_count": 23,
          "metadata": {},
          "output_type": "execute_result"
        }
      ],
      "source": [
        "df_22_parties['seats'] = [45, 29, 35, 21, 23, 6, 8, 8, 4, 1]\n",
        "df_22_parties"
      ]
    },
    {
      "cell_type": "code",
      "execution_count": 24,
      "metadata": {},
      "outputs": [],
      "source": [
        "df_22_parties['prc_speak'] = df_22_parties['size'] / df_22_parties['size'].sum() * 100\n",
        "df_22_parties['prc_seats'] = df_22_parties['seats'] / df_22_parties['seats'].sum() * 100"
      ]
    },
    {
      "cell_type": "code",
      "execution_count": 25,
      "metadata": {},
      "outputs": [
        {
          "data": {
            "text/html": [
              "<div>\n",
              "<style scoped>\n",
              "    .dataframe tbody tr th:only-of-type {\n",
              "        vertical-align: middle;\n",
              "    }\n",
              "\n",
              "    .dataframe tbody tr th {\n",
              "        vertical-align: top;\n",
              "    }\n",
              "\n",
              "    .dataframe thead th {\n",
              "        text-align: right;\n",
              "    }\n",
              "</style>\n",
              "<table border=\"1\" class=\"dataframe\">\n",
              "  <thead>\n",
              "    <tr style=\"text-align: right;\">\n",
              "      <th></th>\n",
              "      <th>party</th>\n",
              "      <th>size</th>\n",
              "      <th>seats</th>\n",
              "      <th>prc_speak</th>\n",
              "      <th>prc_seats</th>\n",
              "    </tr>\n",
              "  </thead>\n",
              "  <tbody>\n",
              "    <tr>\n",
              "      <th>8</th>\n",
              "      <td>SVP</td>\n",
              "      <td>797</td>\n",
              "      <td>45</td>\n",
              "      <td>24.402939</td>\n",
              "      <td>25.000000</td>\n",
              "    </tr>\n",
              "    <tr>\n",
              "      <th>4</th>\n",
              "      <td>FDP</td>\n",
              "      <td>503</td>\n",
              "      <td>29</td>\n",
              "      <td>15.401102</td>\n",
              "      <td>16.111111</td>\n",
              "    </tr>\n",
              "    <tr>\n",
              "      <th>7</th>\n",
              "      <td>SP</td>\n",
              "      <td>476</td>\n",
              "      <td>35</td>\n",
              "      <td>14.574403</td>\n",
              "      <td>19.444444</td>\n",
              "    </tr>\n",
              "    <tr>\n",
              "      <th>6</th>\n",
              "      <td>Grüne</td>\n",
              "      <td>463</td>\n",
              "      <td>21</td>\n",
              "      <td>14.176363</td>\n",
              "      <td>11.666667</td>\n",
              "    </tr>\n",
              "    <tr>\n",
              "      <th>5</th>\n",
              "      <td>GLP</td>\n",
              "      <td>336</td>\n",
              "      <td>23</td>\n",
              "      <td>10.287814</td>\n",
              "      <td>12.777778</td>\n",
              "    </tr>\n",
              "    <tr>\n",
              "      <th>0</th>\n",
              "      <td>AL</td>\n",
              "      <td>273</td>\n",
              "      <td>6</td>\n",
              "      <td>8.358849</td>\n",
              "      <td>3.333333</td>\n",
              "    </tr>\n",
              "    <tr>\n",
              "      <th>1</th>\n",
              "      <td>Die Mitte</td>\n",
              "      <td>179</td>\n",
              "      <td>8</td>\n",
              "      <td>5.480710</td>\n",
              "      <td>4.444444</td>\n",
              "    </tr>\n",
              "    <tr>\n",
              "      <th>3</th>\n",
              "      <td>EVP</td>\n",
              "      <td>178</td>\n",
              "      <td>8</td>\n",
              "      <td>5.450092</td>\n",
              "      <td>4.444444</td>\n",
              "    </tr>\n",
              "    <tr>\n",
              "      <th>2</th>\n",
              "      <td>EDU</td>\n",
              "      <td>45</td>\n",
              "      <td>4</td>\n",
              "      <td>1.377832</td>\n",
              "      <td>2.222222</td>\n",
              "    </tr>\n",
              "    <tr>\n",
              "      <th>9</th>\n",
              "      <td>parteilos</td>\n",
              "      <td>16</td>\n",
              "      <td>1</td>\n",
              "      <td>0.489896</td>\n",
              "      <td>0.555556</td>\n",
              "    </tr>\n",
              "  </tbody>\n",
              "</table>\n",
              "</div>"
            ],
            "text/plain": [
              "       party  size  seats  prc_speak  prc_seats\n",
              "8        SVP   797     45  24.402939  25.000000\n",
              "4        FDP   503     29  15.401102  16.111111\n",
              "7         SP   476     35  14.574403  19.444444\n",
              "6      Grüne   463     21  14.176363  11.666667\n",
              "5        GLP   336     23  10.287814  12.777778\n",
              "0         AL   273      6   8.358849   3.333333\n",
              "1  Die Mitte   179      8   5.480710   4.444444\n",
              "3        EVP   178      8   5.450092   4.444444\n",
              "2        EDU    45      4   1.377832   2.222222\n",
              "9  parteilos    16      1   0.489896   0.555556"
            ]
          },
          "execution_count": 25,
          "metadata": {},
          "output_type": "execute_result"
        }
      ],
      "source": [
        "df_22_parties"
      ]
    },
    {
      "cell_type": "code",
      "execution_count": 26,
      "metadata": {},
      "outputs": [
        {
          "data": {
            "image/png": "[encoded data removed]",
            "text/plain": [
              "<Figure size 864x432 with 1 Axes>"
            ]
          },
          "metadata": {
            "needs_background": "light"
          },
          "output_type": "display_data"
        }
      ],
      "source": [
        "y_axis = np.arange(len(df_22_parties))\n",
        "plt.figure(figsize=(12,6))\n",
        "plt.barh(y_axis + 0.2, df_22_parties['prc_speak'], height=0.4, label=\"Share of Speaking\")\n",
        "plt.barh(y_axis - 0.2, df_22_parties['prc_seats'], height=0.4, label=\"Share of Seats\")\n",
        "plt.yticks(y_axis, df_22_parties['party'])\n",
        "plt.legend()\n",
        "plt.xlabel(\"Percentage\")\n",
        "plt.ylabel(\"Party\")\n",
        "plt.grid(axis = 'x')\n",
        "plt.show()"
      ]
    },
    {
      "cell_type": "code",
      "execution_count": 27,
      "metadata": {},
      "outputs": [
        {
          "data": {
            "image/png": "[encoded data removed]",
            "text/plain": [
              "<Figure size 864x432 with 1 Axes>"
            ]
          },
          "metadata": {
            "needs_background": "light"
          },
          "output_type": "display_data"
        }
      ],
      "source": [
        "s = df.groupby(df['date'].dt.year)['session_id'].nunique()\n",
        "years = s.index\n",
        "counts = s.values\n",
        "\n",
        "plt.rcParams.update({'font.size': 16})\n",
        "plt.figure(figsize=(12,6))\n",
        "\n",
        "plt.bar(years, counts)\n",
        "plt.xticks(np.arange(min(years), max(years)+1, 1))\n",
        "plt.xlim([min(years)-0.75, max(years)+0.75])\n",
        "plt.xticks(rotation=90)\n",
        "plt.xlabel(\"Year\")\n",
        "plt.ylabel(\"Number of Collected PDF Files\")\n",
        "plt.grid(axis = 'y')\n",
        "plt.show()"
      ]
    },
    {
      "attachments": {},
      "cell_type": "markdown",
      "metadata": {},
      "source": [
        "Parties over the years"
      ]
    },
    {
      "cell_type": "code",
      "execution_count": 28,
      "metadata": {},
      "outputs": [],
      "source": [
        "party_map = {\"AL\":\"AL\", \"BDP\":\"Die Mitte\", \"CVP\":\"Die Mitte\", \"Die Mitte\":\"Die Mitte\", \"EDU\":\"EDU\", \"EVP\":\"EVP\", \"FDP\":\"FDP\", \"GLP\":\"GLP\", \"Grüne\":\"Grüne\", \"GPS\":\"Grüne\", \"SP\":\"SP\", \"SVP\":\"SVP\"}"
      ]
    },
    {
      "cell_type": "code",
      "execution_count": 29,
      "metadata": {},
      "outputs": [
        {
          "data": {
            "text/html": [
              "<div>\n",
              "<style scoped>\n",
              "    .dataframe tbody tr th:only-of-type {\n",
              "        vertical-align: middle;\n",
              "    }\n",
              "\n",
              "    .dataframe tbody tr th {\n",
              "        vertical-align: top;\n",
              "    }\n",
              "\n",
              "    .dataframe thead th {\n",
              "        text-align: right;\n",
              "    }\n",
              "</style>\n",
              "<table border=\"1\" class=\"dataframe\">\n",
              "  <thead>\n",
              "    <tr style=\"text-align: right;\">\n",
              "      <th></th>\n",
              "      <th>paragraph_id</th>\n",
              "      <th>item_of_business</th>\n",
              "      <th>person_id</th>\n",
              "      <th>first_name</th>\n",
              "      <th>last_name</th>\n",
              "      <th>council</th>\n",
              "      <th>party</th>\n",
              "      <th>in_admin_role</th>\n",
              "      <th>text</th>\n",
              "      <th>date</th>\n",
              "      <th>session_title</th>\n",
              "      <th>session_id</th>\n",
              "      <th>session_no</th>\n",
              "      <th>party_man</th>\n",
              "    </tr>\n",
              "  </thead>\n",
              "  <tbody>\n",
              "    <tr>\n",
              "      <th>0</th>\n",
              "      <td>203298</td>\n",
              "      <td>1. Mitteilungen</td>\n",
              "      <td>20281</td>\n",
              "      <td>Werner</td>\n",
              "      <td>Hegetschweiler</td>\n",
              "      <td>Kantonsrat</td>\n",
              "      <td>FDP</td>\n",
              "      <td>False</td>\n",
              "      <td>, Alterspräsident, eröffnet die erste Kantonsr...</td>\n",
              "      <td>1995-05-08</td>\n",
              "      <td>1. Ratssitzung</td>\n",
              "      <td>1595</td>\n",
              "      <td>1.</td>\n",
              "      <td>FDP</td>\n",
              "    </tr>\n",
              "    <tr>\n",
              "      <th>1</th>\n",
              "      <td>203324</td>\n",
              "      <td>1. Mitteilungen</td>\n",
              "      <td>None</td>\n",
              "      <td>None</td>\n",
              "      <td>None</td>\n",
              "      <td>None</td>\n",
              "      <td>None</td>\n",
              "      <td>False</td>\n",
              "      <td>Dank der modernen Datenspeicherungstechnik be...</td>\n",
              "      <td>1995-05-08</td>\n",
              "      <td>1. Ratssitzung</td>\n",
              "      <td>1595</td>\n",
              "      <td>1.</td>\n",
              "      <td>NaN</td>\n",
              "    </tr>\n",
              "    <tr>\n",
              "      <th>2</th>\n",
              "      <td>203326</td>\n",
              "      <td>1. Mitteilungen</td>\n",
              "      <td>None</td>\n",
              "      <td>None</td>\n",
              "      <td>None</td>\n",
              "      <td>None</td>\n",
              "      <td>None</td>\n",
              "      <td>False</td>\n",
              "      <td>• Das Ansehen der Politiker in der Bevölkerung...</td>\n",
              "      <td>1995-05-08</td>\n",
              "      <td>1. Ratssitzung</td>\n",
              "      <td>1595</td>\n",
              "      <td>1.</td>\n",
              "      <td>NaN</td>\n",
              "    </tr>\n",
              "    <tr>\n",
              "      <th>3</th>\n",
              "      <td>203346</td>\n",
              "      <td>1. Mitteilungen</td>\n",
              "      <td>None</td>\n",
              "      <td>None</td>\n",
              "      <td>None</td>\n",
              "      <td>None</td>\n",
              "      <td>None</td>\n",
              "      <td>False</td>\n",
              "      <td>Wir müssen unseren Haushalt wieder in Ordnung...</td>\n",
              "      <td>1995-05-08</td>\n",
              "      <td>1. Ratssitzung</td>\n",
              "      <td>1595</td>\n",
              "      <td>1.</td>\n",
              "      <td>NaN</td>\n",
              "    </tr>\n",
              "    <tr>\n",
              "      <th>4</th>\n",
              "      <td>203361</td>\n",
              "      <td>2. Wahl des Büros des Kantonsrates (Präsidium,...</td>\n",
              "      <td>20281</td>\n",
              "      <td>Werner</td>\n",
              "      <td>Hegetschweiler</td>\n",
              "      <td>Kantonsrat</td>\n",
              "      <td>FDP</td>\n",
              "      <td>False</td>\n",
              "      <td>: Gemäss § 71 des Gesetzes über die Wahlen und...</td>\n",
              "      <td>1995-05-08</td>\n",
              "      <td>1. Ratssitzung</td>\n",
              "      <td>1595</td>\n",
              "      <td>1.</td>\n",
              "      <td>FDP</td>\n",
              "    </tr>\n",
              "    <tr>\n",
              "      <th>...</th>\n",
              "      <td>...</td>\n",
              "      <td>...</td>\n",
              "      <td>...</td>\n",
              "      <td>...</td>\n",
              "      <td>...</td>\n",
              "      <td>...</td>\n",
              "      <td>...</td>\n",
              "      <td>...</td>\n",
              "      <td>...</td>\n",
              "      <td>...</td>\n",
              "      <td>...</td>\n",
              "      <td>...</td>\n",
              "      <td>...</td>\n",
              "      <td>...</td>\n",
              "    </tr>\n",
              "    <tr>\n",
              "      <th>193496</th>\n",
              "      <td>349083</td>\n",
              "      <td>4. Verschiedenes</td>\n",
              "      <td>21998</td>\n",
              "      <td>Esther</td>\n",
              "      <td>Guyer</td>\n",
              "      <td>Kantonsrat</td>\n",
              "      <td>Grüne</td>\n",
              "      <td>True</td>\n",
              "      <td>Vielen herzlichen Dank. Und jetzt hören wir n...</td>\n",
              "      <td>2023-04-24</td>\n",
              "      <td>227. Ratssitzung</td>\n",
              "      <td>2739</td>\n",
              "      <td>227.</td>\n",
              "      <td>Grüne</td>\n",
              "    </tr>\n",
              "    <tr>\n",
              "      <th>193497</th>\n",
              "      <td>349084</td>\n",
              "      <td>4. Verschiedenes</td>\n",
              "      <td>None</td>\n",
              "      <td>None</td>\n",
              "      <td>None</td>\n",
              "      <td>None</td>\n",
              "      <td>None</td>\n",
              "      <td>False</td>\n",
              "      <td>(Es folgt eine Musikeinlage, Applaus.)</td>\n",
              "      <td>2023-04-24</td>\n",
              "      <td>227. Ratssitzung</td>\n",
              "      <td>2739</td>\n",
              "      <td>227.</td>\n",
              "      <td>NaN</td>\n",
              "    </tr>\n",
              "    <tr>\n",
              "      <th>193498</th>\n",
              "      <td>349085</td>\n",
              "      <td>4. Verschiedenes</td>\n",
              "      <td>None</td>\n",
              "      <td>None</td>\n",
              "      <td>None</td>\n",
              "      <td>None</td>\n",
              "      <td>None</td>\n",
              "      <td>False</td>\n",
              "      <td>12.50 Uhr</td>\n",
              "      <td>2023-04-24</td>\n",
              "      <td>227. Ratssitzung</td>\n",
              "      <td>2739</td>\n",
              "      <td>227.</td>\n",
              "      <td>NaN</td>\n",
              "    </tr>\n",
              "    <tr>\n",
              "      <th>193499</th>\n",
              "      <td>349086</td>\n",
              "      <td>4. Verschiedenes</td>\n",
              "      <td>None</td>\n",
              "      <td>None</td>\n",
              "      <td>None</td>\n",
              "      <td>None</td>\n",
              "      <td>None</td>\n",
              "      <td>False</td>\n",
              "      <td>Zürich, den 24. April 2023 Die Protokollführer...</td>\n",
              "      <td>2023-04-24</td>\n",
              "      <td>227. Ratssitzung</td>\n",
              "      <td>2739</td>\n",
              "      <td>227.</td>\n",
              "      <td>NaN</td>\n",
              "    </tr>\n",
              "    <tr>\n",
              "      <th>193500</th>\n",
              "      <td>349087</td>\n",
              "      <td>4. Verschiedenes</td>\n",
              "      <td>None</td>\n",
              "      <td>None</td>\n",
              "      <td>None</td>\n",
              "      <td>None</td>\n",
              "      <td>None</td>\n",
              "      <td>False</td>\n",
              "      <td>Von der Protokollprüfungskommission der Geschä...</td>\n",
              "      <td>2023-04-24</td>\n",
              "      <td>227. Ratssitzung</td>\n",
              "      <td>2739</td>\n",
              "      <td>227.</td>\n",
              "      <td>NaN</td>\n",
              "    </tr>\n",
              "  </tbody>\n",
              "</table>\n",
              "<p>193501 rows × 14 columns</p>\n",
              "</div>"
            ],
            "text/plain": [
              "        paragraph_id                                   item_of_business  \\\n",
              "0             203298                                    1. Mitteilungen   \n",
              "1             203324                                    1. Mitteilungen   \n",
              "2             203326                                    1. Mitteilungen   \n",
              "3             203346                                    1. Mitteilungen   \n",
              "4             203361  2. Wahl des Büros des Kantonsrates (Präsidium,...   \n",
              "...              ...                                                ...   \n",
              "193496        349083                                   4. Verschiedenes   \n",
              "193497        349084                                   4. Verschiedenes   \n",
              "193498        349085                                   4. Verschiedenes   \n",
              "193499        349086                                   4. Verschiedenes   \n",
              "193500        349087                                   4. Verschiedenes   \n",
              "\n",
              "       person_id first_name       last_name     council  party  in_admin_role  \\\n",
              "0          20281     Werner  Hegetschweiler  Kantonsrat    FDP          False   \n",
              "1           None       None            None        None   None          False   \n",
              "2           None       None            None        None   None          False   \n",
              "3           None       None            None        None   None          False   \n",
              "4          20281     Werner  Hegetschweiler  Kantonsrat    FDP          False   \n",
              "...          ...        ...             ...         ...    ...            ...   \n",
              "193496     21998     Esther           Guyer  Kantonsrat  Grüne           True   \n",
              "193497      None       None            None        None   None          False   \n",
              "193498      None       None            None        None   None          False   \n",
              "193499      None       None            None        None   None          False   \n",
              "193500      None       None            None        None   None          False   \n",
              "\n",
              "                                                     text       date  \\\n",
              "0       , Alterspräsident, eröffnet die erste Kantonsr... 1995-05-08   \n",
              "1        Dank der modernen Datenspeicherungstechnik be... 1995-05-08   \n",
              "2       • Das Ansehen der Politiker in der Bevölkerung... 1995-05-08   \n",
              "3        Wir müssen unseren Haushalt wieder in Ordnung... 1995-05-08   \n",
              "4       : Gemäss § 71 des Gesetzes über die Wahlen und... 1995-05-08   \n",
              "...                                                   ...        ...   \n",
              "193496   Vielen herzlichen Dank. Und jetzt hören wir n... 2023-04-24   \n",
              "193497             (Es folgt eine Musikeinlage, Applaus.) 2023-04-24   \n",
              "193498                                          12.50 Uhr 2023-04-24   \n",
              "193499  Zürich, den 24. April 2023 Die Protokollführer... 2023-04-24   \n",
              "193500  Von der Protokollprüfungskommission der Geschä... 2023-04-24   \n",
              "\n",
              "           session_title  session_id session_no party_man  \n",
              "0         1. Ratssitzung        1595         1.       FDP  \n",
              "1         1. Ratssitzung        1595         1.       NaN  \n",
              "2         1. Ratssitzung        1595         1.       NaN  \n",
              "3         1. Ratssitzung        1595         1.       NaN  \n",
              "4         1. Ratssitzung        1595         1.       FDP  \n",
              "...                  ...         ...        ...       ...  \n",
              "193496  227. Ratssitzung        2739       227.     Grüne  \n",
              "193497  227. Ratssitzung        2739       227.       NaN  \n",
              "193498  227. Ratssitzung        2739       227.       NaN  \n",
              "193499  227. Ratssitzung        2739       227.       NaN  \n",
              "193500  227. Ratssitzung        2739       227.       NaN  \n",
              "\n",
              "[193501 rows x 14 columns]"
            ]
          },
          "execution_count": 29,
          "metadata": {},
          "output_type": "execute_result"
        }
      ],
      "source": [
        "df['party_man'] = df[\"party\"].map(party_map)\n",
        "df"
      ]
    },
    {
      "cell_type": "code",
      "execution_count": 30,
      "metadata": {},
      "outputs": [
        {
          "data": {
            "text/plain": [
              "<matplotlib.legend.Legend at 0x7f483ffaeda0>"
            ]
          },
          "execution_count": 30,
          "metadata": {},
          "output_type": "execute_result"
        },
        {
          "data": {
            "image/png": "[encoded data removed]",
            "text/plain": [
              "<Figure size 1152x720 with 1 Axes>"
            ]
          },
          "metadata": {
            "needs_background": "light"
          },
          "output_type": "display_data"
        }
      ],
      "source": [
        "# tmp = df.groupby([df['date'].dt.year, 'party'])['paragraph_id'].size().unstack()\n",
        "party_selection = [\"AL\", \"BDP\", \"CVP\", \"Die Mitte\", \"EDU\", \"EVP\", \"FDP\", \"GLP\", \"Grüne\", \"SP\", \"SVP\"]\n",
        "ax = df[(df['party_man'].isin(party_selection)) & (df['date'].dt.year <= 2022) & (df['date'].dt.year >= 1996) & (df['in_admin_role'] == False)].groupby([df['date'].dt.year, 'party_man'])['paragraph_id'].size().unstack().plot(kind='area', figsize=(16, 10), colormap='Set3', xlim=(1996,2022))\n",
        "ax.set_xlabel(\"Year\")\n",
        "ax.set_ylabel(\"Number of Yearly Speeches\")\n",
        "ax.legend(title='Party')"
      ]
    },
    {
      "cell_type": "code",
      "execution_count": 31,
      "metadata": {},
      "outputs": [
        {
          "data": {
            "text/plain": [
              "<AxesSubplot: xlabel='date'>"
            ]
          },
          "execution_count": 31,
          "metadata": {},
          "output_type": "execute_result"
        },
        {
          "data": {
            "image/png": "[encoded data removed]",
            "text/plain": [
              "<Figure size 1440x720 with 1 Axes>"
            ]
          },
          "metadata": {
            "needs_background": "light"
          },
          "output_type": "display_data"
        }
      ],
      "source": [
        "plot_df = df[(df['party'].isin(party_selection)) & (df['date'].dt.year <= 2022) & (df['in_admin_role'] == False)].groupby([df['date'].dt.year, 'party'])['paragraph_id'].size().unstack()\n",
        "plot_df['sum'] = plot_df[party_selection].sum(axis=1)\n",
        "plot_df[party_selection].div(plot_df['sum'], axis=0).plot(kind='area', figsize=(20, 10), colormap='Set3')\n"
      ]
    },
    {
      "cell_type": "code",
      "execution_count": 32,
      "metadata": {},
      "outputs": [
        {
          "data": {
            "text/plain": [
              "person_id  first_name  last_name   party\n",
              "22063      Hans-Peter  Amrein      SVP      1098\n",
              "22059      Willy       Haderer     SVP      1050\n",
              "21998      Esther      Guyer       Grüne    1015\n",
              "8720       Peter       Reinhard    EVP       900\n",
              "22242      Markus      Bischoff    AL        851\n",
              "21616      Robert      Brunner     Grüne     789\n",
              "22103      Matthias    Hauser      SVP       764\n",
              "22234      Lorenz      Habicher    SVP       758\n",
              "21920      Willy       Germann     CVP       689\n",
              "8382       Ralf        Margreiter  Grüne     686\n",
              "18781      Lucius      Dürr        CVP       672\n",
              "21359      Ruedi       Lais        SP        660\n",
              "8872       Daniel      Vischer     GP        587\n",
              "21503      Lorenz      Schmid      CVP       565\n",
              "18099      Markus      Schaaf      EVP       563\n",
              "22180      Hans        Egli        EDU       533\n",
              "22238      Kaspar      Bütikofer   AL        528\n",
              "8100       Susanne     Rihs-Lanz   Grüne     511\n",
              "21635      Kurt        Schreiber   EVP       488\n",
              "20710      Gerhard     Fischer     EVP       467\n",
              "Name: paragraph_id, dtype: int64"
            ]
          },
          "execution_count": 32,
          "metadata": {},
          "output_type": "execute_result"
        }
      ],
      "source": [
        "df[(df['in_admin_role'] == False) & (df['council'] == \"Kantonsrat\")].groupby(['person_id', 'first_name', 'last_name', 'party'])['paragraph_id'].count().nlargest(20)"
      ]
    },
    {
      "cell_type": "code",
      "execution_count": 44,
      "metadata": {},
      "outputs": [
        {
          "data": {
            "text/plain": [
              "person_id  first_name   last_name     party    \n",
              "17619      Beatrice     La Roche      SP           1\n",
              "18077      Rolando      Keller        SVP          1\n",
              "18660      Fredy        Ganz          parteilos    1\n",
              "20103      Nathalie     Rickli        SVP          1\n",
              "20299      Hans         Wickli        SVP          1\n",
              "21142      Werner       Furrer        SVP          1\n",
              "21259      Fritz        Ott           FPS          1\n",
              "21410      Marco V.     Camin         FDP          1\n",
              "21459      Walter       Bosshard      FDP          1\n",
              "22112      Rolf         Jenny         SVP          1\n",
              "22134      Hans-Ulrich  Brechbühl     SVP          1\n",
              "22159      Andreas      Juchli        FDP          1\n",
              "8012       Patricia     Ljuboje       Grüne        1\n",
              "8015       Peter        Meier         EDU          1\n",
              "8061       Beatrice     Krebs         FDP          1\n",
              "8429       Thomas       Meier         SVP          1\n",
              "8480       Erhard       Bernet        parteilos    1\n",
              "8629       Irene        Minder-Roost  SVP          1\n",
              "8689       Emil         De-Boni       FDP          1\n",
              "17956      Roland       Brändli       SVP          2\n",
              "Name: paragraph_id, dtype: int64"
            ]
          },
          "execution_count": 44,
          "metadata": {},
          "output_type": "execute_result"
        }
      ],
      "source": [
        "df[(df['in_admin_role'] == False) & (df['council'] == \"Kantonsrat\")].groupby(['person_id', 'first_name', 'last_name', 'party'])['paragraph_id'].count().nsmallest(20)"
      ]
    },
    {
      "cell_type": "code",
      "execution_count": 38,
      "metadata": {},
      "outputs": [
        {
          "data": {
            "text/plain": [
              "109.67213114754098"
            ]
          },
          "execution_count": 38,
          "metadata": {},
          "output_type": "execute_result"
        }
      ],
      "source": [
        "df[(df['in_admin_role'] == False) & (df['council'] == \"Kantonsrat\")].groupby(['person_id', 'first_name', 'last_name', 'party'])['paragraph_id'].count().mean()"
      ]
    },
    {
      "cell_type": "code",
      "execution_count": 33,
      "metadata": {},
      "outputs": [
        {
          "data": {
            "text/plain": [
              "person_id  first_name   last_name      party    \n",
              "22063      Hans-Peter   Amrein         SVP          127\n",
              "22242      Markus       Bischoff       AL           100\n",
              "22068      Alex         Gantner        FDP           92\n",
              "9060       Manuel       Sahli          AL            65\n",
              "22188      Ann Barbara  Franzen        FDP           59\n",
              "22198      Martin       Hübscher       SVP           51\n",
              "22106      Christian    Lucek          SVP           49\n",
              "22187      Thomas       Forrer         Grüne         49\n",
              "22196      Felix        Hoesch         SP            48\n",
              "21534      Stefan       Schmid         SVP           45\n",
              "17370      Daniel       Sommer         EVP           44\n",
              "22234      Lorenz       Habicher       SVP           44\n",
              "21984      Sonja        Rueff-Frenkel  FDP           40\n",
              "22145      Ruth         Ackermann      Die Mitte     40\n",
              "22185      Karin        Fehr Thoma     Grüne         39\n",
              "8057       Thomas       Wirth          GLP           38\n",
              "22006      Valentin     Landmann       SVP           37\n",
              "22033      Sandra       Bossert        SVP           36\n",
              "22218      Florian      Meier          Grüne         36\n",
              "18667      Rochus       Burtscher      SVP           35\n",
              "Name: paragraph_id, dtype: int64"
            ]
          },
          "execution_count": 33,
          "metadata": {},
          "output_type": "execute_result"
        }
      ],
      "source": [
        "df[(df['date'].dt.year == 2022) & (df['in_admin_role'] == False) & (df['council'] == \"Kantonsrat\")].groupby(['person_id', 'first_name', 'last_name', 'party'])['paragraph_id'].count().nlargest(20)"
      ]
    },
    {
      "cell_type": "code",
      "execution_count": 43,
      "metadata": {},
      "outputs": [
        {
          "data": {
            "text/plain": [
              "person_id  first_name  last_name         party\n",
              "19022      Gabriel     Mäder             GLP      1\n",
              "21482      Thomas      Vogel             FDP      1\n",
              "21489      Beat        Huber             SVP      1\n",
              "21704      Roland      Kappeler          SP       1\n",
              "21706      Esther      Meier             SP       1\n",
              "21708      Susanne     Trost Vetter      SP       1\n",
              "21864      Mario       Senn              FDP      1\n",
              "22155      Susanna     Lisibach          SVP      1\n",
              "22159      Andreas     Juchli            FDP      1\n",
              "22163      Angie       Romero            FDP      1\n",
              "21492      Sandra      Bienek            GLP      2\n",
              "21668      Nora        Bussmann Bulaños  Grüne    2\n",
              "21710      Marc        Bochsler          SVP      2\n",
              "22025      Peter       Schick            SVP      2\n",
              "22076      Urs         Glättli           GLP      2\n",
              "22233      Roland      Scheck            SVP      2\n",
              "8286       Erich       Vontobel          EDU      2\n",
              "22046      Daniela     Rinderknecht      SVP      3\n",
              "22158      Patrick     Walder            SVP      3\n",
              "22186      Christoph   Fischbach         SP       3\n",
              "Name: paragraph_id, dtype: int64"
            ]
          },
          "execution_count": 43,
          "metadata": {},
          "output_type": "execute_result"
        }
      ],
      "source": [
        "df[(df['date'].dt.year == 2022) & (df['in_admin_role'] == False) & (df['council'] == \"Kantonsrat\")].groupby(['person_id', 'first_name', 'last_name', 'party'])['paragraph_id'].count().nsmallest(20)"
      ]
    },
    {
      "cell_type": "code",
      "execution_count": 41,
      "metadata": {},
      "outputs": [
        {
          "data": {
            "text/plain": [
              "17.372340425531913"
            ]
          },
          "execution_count": 41,
          "metadata": {},
          "output_type": "execute_result"
        }
      ],
      "source": [
        "df[(df['date'].dt.year == 2022) & (df['in_admin_role'] == False) & (df['council'] == \"Kantonsrat\")].groupby(['person_id', 'first_name', 'last_name', 'party'])['paragraph_id'].count().mean()"
      ]
    },
    {
      "cell_type": "code",
      "execution_count": 34,
      "metadata": {},
      "outputs": [],
      "source": [
        "df['word_count'] = df['text'].str.strip().str.split(\" \").apply(len)"
      ]
    },
    {
      "cell_type": "code",
      "execution_count": 35,
      "metadata": {},
      "outputs": [
        {
          "data": {
            "text/html": [
              "<div>\n",
              "<style scoped>\n",
              "    .dataframe tbody tr th:only-of-type {\n",
              "        vertical-align: middle;\n",
              "    }\n",
              "\n",
              "    .dataframe tbody tr th {\n",
              "        vertical-align: top;\n",
              "    }\n",
              "\n",
              "    .dataframe thead th {\n",
              "        text-align: right;\n",
              "    }\n",
              "</style>\n",
              "<table border=\"1\" class=\"dataframe\">\n",
              "  <thead>\n",
              "    <tr style=\"text-align: right;\">\n",
              "      <th></th>\n",
              "      <th>paragraph_id</th>\n",
              "      <th>item_of_business</th>\n",
              "      <th>person_id</th>\n",
              "      <th>first_name</th>\n",
              "      <th>last_name</th>\n",
              "      <th>council</th>\n",
              "      <th>party</th>\n",
              "      <th>in_admin_role</th>\n",
              "      <th>text</th>\n",
              "      <th>date</th>\n",
              "      <th>session_title</th>\n",
              "      <th>session_id</th>\n",
              "      <th>session_no</th>\n",
              "      <th>party_man</th>\n",
              "      <th>word_count</th>\n",
              "    </tr>\n",
              "  </thead>\n",
              "  <tbody>\n",
              "    <tr>\n",
              "      <th>0</th>\n",
              "      <td>203298</td>\n",
              "      <td>1. Mitteilungen</td>\n",
              "      <td>20281</td>\n",
              "      <td>Werner</td>\n",
              "      <td>Hegetschweiler</td>\n",
              "      <td>Kantonsrat</td>\n",
              "      <td>FDP</td>\n",
              "      <td>False</td>\n",
              "      <td>, Alterspräsident, eröffnet die erste Kantonsr...</td>\n",
              "      <td>1995-05-08</td>\n",
              "      <td>1. Ratssitzung</td>\n",
              "      <td>1595</td>\n",
              "      <td>1.</td>\n",
              "      <td>FDP</td>\n",
              "      <td>312</td>\n",
              "    </tr>\n",
              "    <tr>\n",
              "      <th>1</th>\n",
              "      <td>203324</td>\n",
              "      <td>1. Mitteilungen</td>\n",
              "      <td>None</td>\n",
              "      <td>None</td>\n",
              "      <td>None</td>\n",
              "      <td>None</td>\n",
              "      <td>None</td>\n",
              "      <td>False</td>\n",
              "      <td>Dank der modernen Datenspeicherungstechnik be...</td>\n",
              "      <td>1995-05-08</td>\n",
              "      <td>1. Ratssitzung</td>\n",
              "      <td>1595</td>\n",
              "      <td>1.</td>\n",
              "      <td>NaN</td>\n",
              "      <td>79</td>\n",
              "    </tr>\n",
              "    <tr>\n",
              "      <th>2</th>\n",
              "      <td>203326</td>\n",
              "      <td>1. Mitteilungen</td>\n",
              "      <td>None</td>\n",
              "      <td>None</td>\n",
              "      <td>None</td>\n",
              "      <td>None</td>\n",
              "      <td>None</td>\n",
              "      <td>False</td>\n",
              "      <td>• Das Ansehen der Politiker in der Bevölkerung...</td>\n",
              "      <td>1995-05-08</td>\n",
              "      <td>1. Ratssitzung</td>\n",
              "      <td>1595</td>\n",
              "      <td>1.</td>\n",
              "      <td>NaN</td>\n",
              "      <td>219</td>\n",
              "    </tr>\n",
              "    <tr>\n",
              "      <th>3</th>\n",
              "      <td>203346</td>\n",
              "      <td>1. Mitteilungen</td>\n",
              "      <td>None</td>\n",
              "      <td>None</td>\n",
              "      <td>None</td>\n",
              "      <td>None</td>\n",
              "      <td>None</td>\n",
              "      <td>False</td>\n",
              "      <td>Wir müssen unseren Haushalt wieder in Ordnung...</td>\n",
              "      <td>1995-05-08</td>\n",
              "      <td>1. Ratssitzung</td>\n",
              "      <td>1595</td>\n",
              "      <td>1.</td>\n",
              "      <td>NaN</td>\n",
              "      <td>481</td>\n",
              "    </tr>\n",
              "    <tr>\n",
              "      <th>4</th>\n",
              "      <td>203361</td>\n",
              "      <td>2. Wahl des Büros des Kantonsrates (Präsidium,...</td>\n",
              "      <td>20281</td>\n",
              "      <td>Werner</td>\n",
              "      <td>Hegetschweiler</td>\n",
              "      <td>Kantonsrat</td>\n",
              "      <td>FDP</td>\n",
              "      <td>False</td>\n",
              "      <td>: Gemäss § 71 des Gesetzes über die Wahlen und...</td>\n",
              "      <td>1995-05-08</td>\n",
              "      <td>1. Ratssitzung</td>\n",
              "      <td>1595</td>\n",
              "      <td>1.</td>\n",
              "      <td>FDP</td>\n",
              "      <td>85</td>\n",
              "    </tr>\n",
              "    <tr>\n",
              "      <th>5</th>\n",
              "      <td>203384</td>\n",
              "      <td>2. Wahl des Büros des Kantonsrates (Präsidium,...</td>\n",
              "      <td>8720</td>\n",
              "      <td>Peter</td>\n",
              "      <td>Reinhard</td>\n",
              "      <td>Kantonsrat</td>\n",
              "      <td>EVP</td>\n",
              "      <td>False</td>\n",
              "      <td>Im Namen der einstimmigen Interfraktionellen ...</td>\n",
              "      <td>1995-05-08</td>\n",
              "      <td>1. Ratssitzung</td>\n",
              "      <td>1595</td>\n",
              "      <td>1.</td>\n",
              "      <td>EVP</td>\n",
              "      <td>17</td>\n",
              "    </tr>\n",
              "    <tr>\n",
              "      <th>6</th>\n",
              "      <td>203386</td>\n",
              "      <td>2. Wahl des Büros des Kantonsrates (Präsidium,...</td>\n",
              "      <td>None</td>\n",
              "      <td>None</td>\n",
              "      <td>None</td>\n",
              "      <td>None</td>\n",
              "      <td>None</td>\n",
              "      <td>False</td>\n",
              "      <td>Weitere Vorschläge werden nicht gemacht.</td>\n",
              "      <td>1995-05-08</td>\n",
              "      <td>1. Ratssitzung</td>\n",
              "      <td>1595</td>\n",
              "      <td>1.</td>\n",
              "      <td>NaN</td>\n",
              "      <td>5</td>\n",
              "    </tr>\n",
              "    <tr>\n",
              "      <th>7</th>\n",
              "      <td>203406</td>\n",
              "      <td>2. Wahl des Büros des Kantonsrates (Präsidium,...</td>\n",
              "      <td>None</td>\n",
              "      <td>None</td>\n",
              "      <td>None</td>\n",
              "      <td>None</td>\n",
              "      <td>None</td>\n",
              "      <td>False</td>\n",
              "      <td>\\nAnwesende Ratsmitglieder 172 \\nEingegangene...</td>\n",
              "      <td>1995-05-08</td>\n",
              "      <td>1. Ratssitzung</td>\n",
              "      <td>1595</td>\n",
              "      <td>1.</td>\n",
              "      <td>NaN</td>\n",
              "      <td>82</td>\n",
              "    </tr>\n",
              "    <tr>\n",
              "      <th>8</th>\n",
              "      <td>203456</td>\n",
              "      <td>2. Wahl des Büros des Kantonsrates (Präsidium,...</td>\n",
              "      <td>20046</td>\n",
              "      <td>Markus</td>\n",
              "      <td>Kägi</td>\n",
              "      <td>Kantonsrat</td>\n",
              "      <td>SVP</td>\n",
              "      <td>False</td>\n",
              "      <td>\\nSoeben haben Sie mich, geschätzte Kolleginn...</td>\n",
              "      <td>1995-05-08</td>\n",
              "      <td>1. Ratssitzung</td>\n",
              "      <td>1595</td>\n",
              "      <td>1.</td>\n",
              "      <td>SVP</td>\n",
              "      <td>474</td>\n",
              "    </tr>\n",
              "    <tr>\n",
              "      <th>9</th>\n",
              "      <td>203544</td>\n",
              "      <td>2. Wahl des Büros des Kantonsrates (Präsidium,...</td>\n",
              "      <td>None</td>\n",
              "      <td>None</td>\n",
              "      <td>None</td>\n",
              "      <td>None</td>\n",
              "      <td>None</td>\n",
              "      <td>False</td>\n",
              "      <td>«Lass unser Vaterland niemals im Streit um da...</td>\n",
              "      <td>1995-05-08</td>\n",
              "      <td>1. Ratssitzung</td>\n",
              "      <td>1595</td>\n",
              "      <td>1.</td>\n",
              "      <td>NaN</td>\n",
              "      <td>584</td>\n",
              "    </tr>\n",
              "  </tbody>\n",
              "</table>\n",
              "</div>"
            ],
            "text/plain": [
              "   paragraph_id                                   item_of_business person_id  \\\n",
              "0        203298                                    1. Mitteilungen     20281   \n",
              "1        203324                                    1. Mitteilungen      None   \n",
              "2        203326                                    1. Mitteilungen      None   \n",
              "3        203346                                    1. Mitteilungen      None   \n",
              "4        203361  2. Wahl des Büros des Kantonsrates (Präsidium,...     20281   \n",
              "5        203384  2. Wahl des Büros des Kantonsrates (Präsidium,...      8720   \n",
              "6        203386  2. Wahl des Büros des Kantonsrates (Präsidium,...      None   \n",
              "7        203406  2. Wahl des Büros des Kantonsrates (Präsidium,...      None   \n",
              "8        203456  2. Wahl des Büros des Kantonsrates (Präsidium,...     20046   \n",
              "9        203544  2. Wahl des Büros des Kantonsrates (Präsidium,...      None   \n",
              "\n",
              "  first_name       last_name     council party  in_admin_role  \\\n",
              "0     Werner  Hegetschweiler  Kantonsrat   FDP          False   \n",
              "1       None            None        None  None          False   \n",
              "2       None            None        None  None          False   \n",
              "3       None            None        None  None          False   \n",
              "4     Werner  Hegetschweiler  Kantonsrat   FDP          False   \n",
              "5      Peter        Reinhard  Kantonsrat   EVP          False   \n",
              "6       None            None        None  None          False   \n",
              "7       None            None        None  None          False   \n",
              "8     Markus            Kägi  Kantonsrat   SVP          False   \n",
              "9       None            None        None  None          False   \n",
              "\n",
              "                                                text       date  \\\n",
              "0  , Alterspräsident, eröffnet die erste Kantonsr... 1995-05-08   \n",
              "1   Dank der modernen Datenspeicherungstechnik be... 1995-05-08   \n",
              "2  • Das Ansehen der Politiker in der Bevölkerung... 1995-05-08   \n",
              "3   Wir müssen unseren Haushalt wieder in Ordnung... 1995-05-08   \n",
              "4  : Gemäss § 71 des Gesetzes über die Wahlen und... 1995-05-08   \n",
              "5   Im Namen der einstimmigen Interfraktionellen ... 1995-05-08   \n",
              "6           Weitere Vorschläge werden nicht gemacht. 1995-05-08   \n",
              "7   \\nAnwesende Ratsmitglieder 172 \\nEingegangene... 1995-05-08   \n",
              "8   \\nSoeben haben Sie mich, geschätzte Kolleginn... 1995-05-08   \n",
              "9   «Lass unser Vaterland niemals im Streit um da... 1995-05-08   \n",
              "\n",
              "    session_title  session_id session_no party_man  word_count  \n",
              "0  1. Ratssitzung        1595         1.       FDP         312  \n",
              "1  1. Ratssitzung        1595         1.       NaN          79  \n",
              "2  1. Ratssitzung        1595         1.       NaN         219  \n",
              "3  1. Ratssitzung        1595         1.       NaN         481  \n",
              "4  1. Ratssitzung        1595         1.       FDP          85  \n",
              "5  1. Ratssitzung        1595         1.       EVP          17  \n",
              "6  1. Ratssitzung        1595         1.       NaN           5  \n",
              "7  1. Ratssitzung        1595         1.       NaN          82  \n",
              "8  1. Ratssitzung        1595         1.       SVP         474  \n",
              "9  1. Ratssitzung        1595         1.       NaN         584  "
            ]
          },
          "execution_count": 35,
          "metadata": {},
          "output_type": "execute_result"
        }
      ],
      "source": [
        "df.head(10)"
      ]
    },
    {
      "cell_type": "code",
      "execution_count": 18,
      "metadata": {},
      "outputs": [
        {
          "data": {
            "text/plain": [
              "person_id  first_name  last_name     party\n",
              "22059      Willy       Haderer       SVP      278134\n",
              "22063      Hans-Peter  Amrein        SVP      255107\n",
              "8382       Ralf        Margreiter    Grüne    254892\n",
              "21920      Willy       Germann       CVP      249954\n",
              "22242      Markus      Bischoff      AL       244253\n",
              "21998      Esther      Guyer         Grüne    233543\n",
              "22103      Matthias    Hauser        SVP      229789\n",
              "21359      Ruedi       Lais          SP       228964\n",
              "21616      Robert      Brunner       Grüne    209609\n",
              "22234      Lorenz      Habicher      SVP      203264\n",
              "8720       Peter       Reinhard      EVP      194857\n",
              "22238      Kaspar      Bütikofer     AL       182754\n",
              "18099      Markus      Schaaf        EVP      172075\n",
              "18781      Lucius      Dürr          CVP      167719\n",
              "21503      Lorenz      Schmid        CVP      167433\n",
              "8872       Daniel      Vischer       GP       165404\n",
              "8100       Susanne     Rihs-Lanz     Grüne    157073\n",
              "21942      Sabine      Ziegler       SP       150330\n",
              "8057       Thomas      Wirth         GLP      140631\n",
              "21458      Julia       Gerber Rüegg  SP       135522\n",
              "Name: word_count, dtype: int64"
            ]
          },
          "execution_count": 18,
          "metadata": {},
          "output_type": "execute_result"
        }
      ],
      "source": [
        "df[(df['in_admin_role'] == False) & (df['council'] == \"Kantonsrat\")].groupby(['person_id', 'first_name', 'last_name', 'party'])['word_count'].sum().nlargest(20)"
      ]
    },
    {
      "cell_type": "code",
      "execution_count": 37,
      "metadata": {},
      "outputs": [
        {
          "data": {
            "text/plain": [
              "30400.311475409835"
            ]
          },
          "execution_count": 37,
          "metadata": {},
          "output_type": "execute_result"
        }
      ],
      "source": [
        "df[(df['in_admin_role'] == False) & (df['council'] == \"Kantonsrat\")].groupby(['person_id', 'first_name', 'last_name', 'party'])['word_count'].sum().mean()"
      ]
    },
    {
      "cell_type": "code",
      "execution_count": 19,
      "metadata": {},
      "outputs": [
        {
          "data": {
            "text/plain": [
              "person_id  first_name     last_name       party    \n",
              "22063      Hans-Peter     Amrein          SVP          32901\n",
              "22068      Alex           Gantner         FDP          31968\n",
              "22188      Ann Barbara    Franzen         FDP          22296\n",
              "9060       Manuel         Sahli           AL           18593\n",
              "22242      Markus         Bischoff        AL           16530\n",
              "22187      Thomas         Forrer          Grüne        16452\n",
              "17370      Daniel         Sommer          EVP          14616\n",
              "21534      Stefan         Schmid          SVP          14586\n",
              "22198      Martin         Hübscher        SVP          14342\n",
              "8057       Thomas         Wirth           GLP          13984\n",
              "22185      Karin          Fehr Thoma      Grüne        13567\n",
              "22106      Christian      Lucek           SVP          13405\n",
              "21986      Andrew         Katumba         SP           13269\n",
              "22248      Marc           Bourgeois       FDP          12330\n",
              "22234      Lorenz         Habicher        SVP          12175\n",
              "21438      Jean-Philippe  Pinto           Die Mitte    12153\n",
              "22154      Anne-Claude    Hensch Frei     AL           11478\n",
              "22239      Tobias         Langenegger     SP           11214\n",
              "22218      Florian        Meier           Grüne        11180\n",
              "22190      Sonja          Gehrig Schmidt  GLP          11146\n",
              "Name: word_count, dtype: int64"
            ]
          },
          "execution_count": 19,
          "metadata": {},
          "output_type": "execute_result"
        }
      ],
      "source": [
        "df[(df['date'].dt.year == 2022) & (df['in_admin_role'] == False) & (df['council'] == \"Kantonsrat\")].groupby(['person_id', 'first_name', 'last_name', 'party'])['word_count'].sum().nlargest(20)"
      ]
    },
    {
      "cell_type": "code",
      "execution_count": 40,
      "metadata": {},
      "outputs": [
        {
          "data": {
            "text/plain": [
              "5151.468085106383"
            ]
          },
          "execution_count": 40,
          "metadata": {},
          "output_type": "execute_result"
        }
      ],
      "source": [
        "df[(df['date'].dt.year == 2022) & (df['in_admin_role'] == False) & (df['council'] == \"Kantonsrat\")].groupby(['person_id', 'first_name', 'last_name', 'party'])['word_count'].sum().mean()"
      ]
    },
    {
      "cell_type": "code",
      "execution_count": 20,
      "metadata": {},
      "outputs": [
        {
          "data": {
            "text/plain": [
              "person_id  first_name          last_name      party    \n",
              "21710      Marc                Bochsler       SVP          704.500000\n",
              "22232      Ueli                Bamert         SVP          620.222222\n",
              "22171      André               Bender         SVP          616.000000\n",
              "22186      Christoph           Fischbach      SP           555.333333\n",
              "21443      Farid               Zeroual        Die Mitte    546.400000\n",
              "20463      André               Müller         FDP          542.750000\n",
              "22239      Tobias              Langenegger    SP           534.000000\n",
              "21986      Andrew              Katumba        SP           530.760000\n",
              "22071      Orlando             Wyss           SVP          518.000000\n",
              "19022      Gabriel             Mäder          GLP          507.000000\n",
              "22074      Claudia             Wyssen         GLP          501.875000\n",
              "22062      Arianne             Moser-Schäfer  FDP          501.600000\n",
              "22149      Nathalie            Aeschbacher    GLP          501.533333\n",
              "22100      Isabel              Garcia         GLP          499.285714\n",
              "22027      Marcel              Suter          SVP          476.733333\n",
              "22176      Pierre              Dalcher        SVP          466.400000\n",
              "22073      Sarah               Akanji         SP           463.000000\n",
              "22154      Anne-Claude         Hensch Frei    AL           459.120000\n",
              "22041      Stefanie Elisabeth  Huber          GLP          448.222222\n",
              "22192      Beat                Habegger       FDP          439.772727\n",
              "Name: word_count, dtype: float64"
            ]
          },
          "execution_count": 20,
          "metadata": {},
          "output_type": "execute_result"
        }
      ],
      "source": [
        "df[(df['date'].dt.year == 2022) & (df['in_admin_role'] == False) & (df['council'] == \"Kantonsrat\")].groupby(['person_id', 'first_name', 'last_name', 'party'])['word_count'].mean().nlargest(20)"
      ]
    },
    {
      "cell_type": "code",
      "execution_count": 54,
      "metadata": {},
      "outputs": [
        {
          "data": {
            "text/plain": [
              "person_id  first_name  last_name      party\n",
              "21710      Marc        Bochsler       SVP      704.500000\n",
              "21019      Markus      Notter         SP       619.333333\n",
              "4703       Thomas      Huonker        SP       614.500000\n",
              "21704      Roland      Kappeler       SP       610.500000\n",
              "22171      André       Bender         SVP      578.794872\n",
              "21194      Martin      Zollinger      FDP      569.500000\n",
              "22239      Tobias      Langenegger    SP       527.795082\n",
              "21974      Margrit     Haller-Traber  SVP      520.500000\n",
              "8698       Hermann     Weigold        SVP      516.888889\n",
              "4962       Josef       Vogel          SP       508.148148\n",
              "8012       Patricia    Ljuboje        Grüne    501.000000\n",
              "4968       Susanne     Frutig         SP       498.923077\n",
              "22132      Guido       Bergmaier      SVP      494.000000\n",
              "21613      Peter A.    Schmid         SP       493.517241\n",
              "22232      Ueli        Bamert         SVP      486.265306\n",
              "22062      Arianne     Moser-Schäfer  FDP      473.269231\n",
              "20374      Hans        Rutschmann     SVP      458.524590\n",
              "8429       Thomas      Meier          SVP      453.000000\n",
              "22149      Nathalie    Aeschbacher    GLP      451.473684\n",
              "21627      Ruth        Gurny          SP       443.507353\n",
              "Name: word_count, dtype: float64"
            ]
          },
          "execution_count": 54,
          "metadata": {},
          "output_type": "execute_result"
        }
      ],
      "source": [
        "df[(df['in_admin_role'] == False) & (df['council'] == \"Kantonsrat\")].groupby(['person_id', 'first_name', 'last_name', 'party'])['word_count'].mean().nlargest(20)"
      ]
    },
    {
      "cell_type": "code",
      "execution_count": 21,
      "metadata": {},
      "outputs": [
        {
          "data": {
            "text/plain": [
              "person_id  first_name  last_name        party    \n",
              "21542      Sylvie      Matter           SP            72.833333\n",
              "21489      Beat        Huber            SVP           82.000000\n",
              "21998      Esther      Guyer            Grüne         85.047619\n",
              "21706      Esther      Meier            SP            98.000000\n",
              "21708      Susanne     Trost Vetter     SP           114.000000\n",
              "22172      Michael     Biber            FDP          119.750000\n",
              "21996      Kathrin     Stutz            Grüne        121.250000\n",
              "22145      Ruth        Ackermann        Die Mitte    121.875000\n",
              "22016      Martin      Huber            FDP          127.888889\n",
              "22023      Beat        Monhart          EVP          135.357143\n",
              "21712      Michael     Bänninger        EVP          147.750000\n",
              "21707      Hans        Finsler          SVP          149.615385\n",
              "22051      Beatrix     Stüssi           SP           152.200000\n",
              "21705      Barbara     Günthard Fitze   EVP          152.928571\n",
              "21470      Benjamin    Walder           Grüne        155.666667\n",
              "22055      Christina   Zurfluh Fraefel  SVP          167.388889\n",
              "22158      Patrick     Walder           SVP          168.500000\n",
              "22076      Urs         Glättli          GLP          169.500000\n",
              "22242      Markus      Bischoff         AL           173.894737\n",
              "22142      Nina        Fehr Düsel       SVP          174.636364\n",
              "Name: word_count, dtype: float64"
            ]
          },
          "execution_count": 21,
          "metadata": {},
          "output_type": "execute_result"
        }
      ],
      "source": [
        "df[(df['date'].dt.year == 2022) & (df['in_admin_role'] == False) & (df['council'] == \"Kantonsrat\") & (df['word_count']> 3)].groupby(['person_id', 'first_name', 'last_name', 'party'])['word_count'].mean().nsmallest(20)"
      ]
    },
    {
      "cell_type": "code",
      "execution_count": 55,
      "metadata": {},
      "outputs": [
        {
          "data": {
            "text/plain": [
              "person_id  first_name     last_name   party    \n",
              "8689       Emil           De-Boni     FDP            9.000000\n",
              "17956      Roland         Brändli     SVP           24.000000\n",
              "18660      Fredy          Ganz        parteilos     25.000000\n",
              "21142      Werner         Furrer      SVP           33.000000\n",
              "17619      Beatrice       La Roche    SP            52.000000\n",
              "21459      Walter         Bosshard    FDP           66.000000\n",
              "4531       Kurt           Krebs       SVP           78.565217\n",
              "8196       Christopher    Vohdin      SVP           80.000000\n",
              "20046      Markus         Kägi        SVP           85.945946\n",
              "17551      Markus         Hess        FDP           93.500000\n",
              "20341      Martin         Zuber       SVP          112.250000\n",
              "21595      Isidor Markus  Stirnimann  FDP          112.333333\n",
              "8476       Hans Peter     Häring      EDU          113.339564\n",
              "18887      Hans Jörg      Fischer     SD           113.469388\n",
              "17764      Peter          Preisig     SVP          114.312500\n",
              "21526      Hans-Ueli      Vogt        SVP          115.528302\n",
              "8102       Rolf Robert    Zimmermann  SVP          115.800000\n",
              "17963      Astrid         Gut         BDP          117.146067\n",
              "22054      Kathrin        Wydler      CVP          122.352941\n",
              "8734       Roland         Bachmann    FPS          123.200000\n",
              "Name: word_count, dtype: float64"
            ]
          },
          "execution_count": 55,
          "metadata": {},
          "output_type": "execute_result"
        }
      ],
      "source": [
        "df[(df['in_admin_role'] == False) & (df['council'] == \"Kantonsrat\") & (df['word_count']> 3)].groupby(['person_id', 'first_name', 'last_name', 'party'])['word_count'].mean().nsmallest(20)"
      ]
    },
    {
      "cell_type": "code",
      "execution_count": 22,
      "metadata": {},
      "outputs": [
        {
          "data": {
            "text/plain": [
              "Series([], Name: text, dtype: object)"
            ]
          },
          "execution_count": 22,
          "metadata": {},
          "output_type": "execute_result"
        }
      ],
      "source": [
        "df[df['paragraph_id'] == 100362]['text'].str.strip().str.split(\" \")"
      ]
    },
    {
      "attachments": {},
      "cell_type": "markdown",
      "metadata": {},
      "source": []
    },
    {
      "cell_type": "code",
      "execution_count": 23,
      "metadata": {},
      "outputs": [
        {
          "data": {
            "text/plain": [
              "count    104712.000000\n",
              "mean        238.983001\n",
              "std         233.708948\n",
              "min           1.000000\n",
              "25%          61.000000\n",
              "50%         180.000000\n",
              "75%         342.000000\n",
              "max        3650.000000\n",
              "Name: word_count, dtype: float64"
            ]
          },
          "execution_count": 23,
          "metadata": {},
          "output_type": "execute_result"
        }
      ],
      "source": [
        "df[df['person_id'].notnull()]['word_count'].describe()"
      ]
    },
    {
      "cell_type": "code",
      "execution_count": 66,
      "metadata": {},
      "outputs": [
        {
          "data": {
            "text/plain": [
              "Text(0.5, 0, 'Number of Words per Speech')"
            ]
          },
          "execution_count": 66,
          "metadata": {},
          "output_type": "execute_result"
        },
        {
          "data": {
            "image/png": "[encoded data removed]",
            "text/plain": [
              "<Figure size 864x432 with 1 Axes>"
            ]
          },
          "metadata": {
            "needs_background": "light"
          },
          "output_type": "display_data"
        }
      ],
      "source": [
        "ax = df[(df['person_id'].notnull()) & (df['in_admin_role'] == False) & (df['council'] == \"Kantonsrat\") & (df['word_count']> 3)]['word_count'].plot(kind='hist', range=(0, 1500), figsize=(12, 6), bins=150, xlim=[0, 1500])\n",
        "ax.set_xlabel(\"Number of Words per Speech\")\n",
        "#ax.set_ylabel(\"Number of Yearly Speeches\")"
      ]
    },
    {
      "cell_type": "code",
      "execution_count": 70,
      "metadata": {},
      "outputs": [
        {
          "data": {
            "text/plain": [
              "225.0"
            ]
          },
          "execution_count": 70,
          "metadata": {},
          "output_type": "execute_result"
        }
      ],
      "source": [
        "df[(df['person_id'].notnull()) & (df['in_admin_role'] == False) & (df['council'] == \"Kantonsrat\")]['word_count'].median()"
      ]
    },
    {
      "cell_type": "code",
      "execution_count": 25,
      "metadata": {},
      "outputs": [
        {
          "data": {
            "text/html": [
              "<div>\n",
              "<style scoped>\n",
              "    .dataframe tbody tr th:only-of-type {\n",
              "        vertical-align: middle;\n",
              "    }\n",
              "\n",
              "    .dataframe tbody tr th {\n",
              "        vertical-align: top;\n",
              "    }\n",
              "\n",
              "    .dataframe thead th {\n",
              "        text-align: right;\n",
              "    }\n",
              "</style>\n",
              "<table border=\"1\" class=\"dataframe\">\n",
              "  <thead>\n",
              "    <tr style=\"text-align: right;\">\n",
              "      <th></th>\n",
              "      <th>paragraph_id</th>\n",
              "      <th>item_of_business</th>\n",
              "      <th>person_id</th>\n",
              "      <th>first_name</th>\n",
              "      <th>last_name</th>\n",
              "      <th>council</th>\n",
              "      <th>party</th>\n",
              "      <th>in_admin_role</th>\n",
              "      <th>text</th>\n",
              "      <th>date</th>\n",
              "      <th>session_title</th>\n",
              "      <th>session_id</th>\n",
              "      <th>word_count</th>\n",
              "    </tr>\n",
              "  </thead>\n",
              "  <tbody>\n",
              "    <tr>\n",
              "      <th>16</th>\n",
              "      <td>203639</td>\n",
              "      <td>2. Wahl des Büros des Kantonsrates (Präsidium,...</td>\n",
              "      <td>8720</td>\n",
              "      <td>Peter</td>\n",
              "      <td>Reinhard</td>\n",
              "      <td>Kantonsrat</td>\n",
              "      <td>EVP</td>\n",
              "      <td>False</td>\n",
              "      <td>Namens der einstimmigen Interfraktionellen Ko...</td>\n",
              "      <td>1995-05-08</td>\n",
              "      <td>1. Ratssitzung</td>\n",
              "      <td>1595</td>\n",
              "      <td>12</td>\n",
              "    </tr>\n",
              "    <tr>\n",
              "      <th>17</th>\n",
              "      <td>203662</td>\n",
              "      <td>2. Wahl des Büros des Kantonsrates (Präsidium,...</td>\n",
              "      <td>5405</td>\n",
              "      <td>Roland</td>\n",
              "      <td>Brunner</td>\n",
              "      <td>Kantonsrat</td>\n",
              "      <td>SP</td>\n",
              "      <td>False</td>\n",
              "      <td></td>\n",
              "      <td>1995-05-08</td>\n",
              "      <td>1. Ratssitzung</td>\n",
              "      <td>1595</td>\n",
              "      <td>1</td>\n",
              "    </tr>\n",
              "    <tr>\n",
              "      <th>23</th>\n",
              "      <td>203670</td>\n",
              "      <td>2. Wahl des Büros des Kantonsrates (Präsidium,...</td>\n",
              "      <td>8720</td>\n",
              "      <td>Peter</td>\n",
              "      <td>Reinhard</td>\n",
              "      <td>Kantonsrat</td>\n",
              "      <td>EVP</td>\n",
              "      <td>False</td>\n",
              "      <td>Namens der einstimmigen Interfraktionellen Ko...</td>\n",
              "      <td>1995-05-08</td>\n",
              "      <td>1. Ratssitzung</td>\n",
              "      <td>1595</td>\n",
              "      <td>9</td>\n",
              "    </tr>\n",
              "    <tr>\n",
              "      <th>258</th>\n",
              "      <td>152247</td>\n",
              "      <td>2. Wahl des Büros des Kantonsrates (Präsidium,...</td>\n",
              "      <td>8720</td>\n",
              "      <td>Peter</td>\n",
              "      <td>Reinhard</td>\n",
              "      <td>Kantonsrat</td>\n",
              "      <td>EVP</td>\n",
              "      <td>False</td>\n",
              "      <td>Namens der einstimmigen Interfraktionellen Ko...</td>\n",
              "      <td>1995-05-22</td>\n",
              "      <td>3. Ratssitzung</td>\n",
              "      <td>694</td>\n",
              "      <td>12</td>\n",
              "    </tr>\n",
              "    <tr>\n",
              "      <th>259</th>\n",
              "      <td>152249</td>\n",
              "      <td>2. Wahl des Büros des Kantonsrates (Präsidium,...</td>\n",
              "      <td>5405</td>\n",
              "      <td>Roland</td>\n",
              "      <td>Brunner</td>\n",
              "      <td>Kantonsrat</td>\n",
              "      <td>SP</td>\n",
              "      <td>False</td>\n",
              "      <td></td>\n",
              "      <td>1995-05-22</td>\n",
              "      <td>3. Ratssitzung</td>\n",
              "      <td>694</td>\n",
              "      <td>1</td>\n",
              "    </tr>\n",
              "    <tr>\n",
              "      <th>...</th>\n",
              "      <td>...</td>\n",
              "      <td>...</td>\n",
              "      <td>...</td>\n",
              "      <td>...</td>\n",
              "      <td>...</td>\n",
              "      <td>...</td>\n",
              "      <td>...</td>\n",
              "      <td>...</td>\n",
              "      <td>...</td>\n",
              "      <td>...</td>\n",
              "      <td>...</td>\n",
              "      <td>...</td>\n",
              "      <td>...</td>\n",
              "    </tr>\n",
              "    <tr>\n",
              "      <th>192390</th>\n",
              "      <td>321927</td>\n",
              "      <td>3. Wahl Ersatzmitglied Verwaltungsgericht</td>\n",
              "      <td>22242</td>\n",
              "      <td>Markus</td>\n",
              "      <td>Bischoff</td>\n",
              "      <td>Kantonsrat</td>\n",
              "      <td>AL</td>\n",
              "      <td>False</td>\n",
              "      <td>Die Interfraktionelle Konferenz schlägt Ihnen...</td>\n",
              "      <td>2023-03-06</td>\n",
              "      <td>219. Ratssitzung</td>\n",
              "      <td>713</td>\n",
              "      <td>8</td>\n",
              "    </tr>\n",
              "    <tr>\n",
              "      <th>192395</th>\n",
              "      <td>321932</td>\n",
              "      <td>4. Wahl Mitglied Finanzkommission</td>\n",
              "      <td>22242</td>\n",
              "      <td>Markus</td>\n",
              "      <td>Bischoff</td>\n",
              "      <td>Kantonsrat</td>\n",
              "      <td>AL</td>\n",
              "      <td>False</td>\n",
              "      <td>Die Interfraktionelle Konferenz schlägt Ihnen...</td>\n",
              "      <td>2023-03-06</td>\n",
              "      <td>219. Ratssitzung</td>\n",
              "      <td>713</td>\n",
              "      <td>8</td>\n",
              "    </tr>\n",
              "    <tr>\n",
              "      <th>192402</th>\n",
              "      <td>321939</td>\n",
              "      <td>2. Gesetz über das Universitätsspital Zürich (...</td>\n",
              "      <td>21998</td>\n",
              "      <td>Esther</td>\n",
              "      <td>Guyer</td>\n",
              "      <td>Kantonsrat</td>\n",
              "      <td>Grüne</td>\n",
              "      <td>True</td>\n",
              "      <td>Wir kommen nun zu den Fraktionssprechenden.</td>\n",
              "      <td>2023-03-06</td>\n",
              "      <td>219. Ratssitzung</td>\n",
              "      <td>713</td>\n",
              "      <td>6</td>\n",
              "    </tr>\n",
              "    <tr>\n",
              "      <th>192411</th>\n",
              "      <td>321948</td>\n",
              "      <td>2. Gesetz über das Universitätsspital Zürich (...</td>\n",
              "      <td>21998</td>\n",
              "      <td>Esther</td>\n",
              "      <td>Guyer</td>\n",
              "      <td>Kantonsrat</td>\n",
              "      <td>Grüne</td>\n",
              "      <td>True</td>\n",
              "      <td>Die Fraktionen haben ihre Erklärungen abgegeb...</td>\n",
              "      <td>2023-03-06</td>\n",
              "      <td>219. Ratssitzung</td>\n",
              "      <td>713</td>\n",
              "      <td>13</td>\n",
              "    </tr>\n",
              "    <tr>\n",
              "      <th>192511</th>\n",
              "      <td>322048</td>\n",
              "      <td>5. Verschiedenes</td>\n",
              "      <td>21998</td>\n",
              "      <td>Esther</td>\n",
              "      <td>Guyer</td>\n",
              "      <td>Kantonsrat</td>\n",
              "      <td>Grüne</td>\n",
              "      <td>True</td>\n",
              "      <td>Das stimmt, besten Dank.</td>\n",
              "      <td>2023-03-06</td>\n",
              "      <td>219. Ratssitzung</td>\n",
              "      <td>713</td>\n",
              "      <td>4</td>\n",
              "    </tr>\n",
              "  </tbody>\n",
              "</table>\n",
              "<p>8453 rows × 13 columns</p>\n",
              "</div>"
            ],
            "text/plain": [
              "        paragraph_id                                   item_of_business  \\\n",
              "16            203639  2. Wahl des Büros des Kantonsrates (Präsidium,...   \n",
              "17            203662  2. Wahl des Büros des Kantonsrates (Präsidium,...   \n",
              "23            203670  2. Wahl des Büros des Kantonsrates (Präsidium,...   \n",
              "258           152247  2. Wahl des Büros des Kantonsrates (Präsidium,...   \n",
              "259           152249  2. Wahl des Büros des Kantonsrates (Präsidium,...   \n",
              "...              ...                                                ...   \n",
              "192390        321927          3. Wahl Ersatzmitglied Verwaltungsgericht   \n",
              "192395        321932                  4. Wahl Mitglied Finanzkommission   \n",
              "192402        321939  2. Gesetz über das Universitätsspital Zürich (...   \n",
              "192411        321948  2. Gesetz über das Universitätsspital Zürich (...   \n",
              "192511        322048                                   5. Verschiedenes   \n",
              "\n",
              "       person_id first_name last_name     council  party  in_admin_role  \\\n",
              "16          8720      Peter  Reinhard  Kantonsrat    EVP          False   \n",
              "17          5405     Roland   Brunner  Kantonsrat     SP          False   \n",
              "23          8720      Peter  Reinhard  Kantonsrat    EVP          False   \n",
              "258         8720      Peter  Reinhard  Kantonsrat    EVP          False   \n",
              "259         5405     Roland   Brunner  Kantonsrat     SP          False   \n",
              "...          ...        ...       ...         ...    ...            ...   \n",
              "192390     22242     Markus  Bischoff  Kantonsrat     AL          False   \n",
              "192395     22242     Markus  Bischoff  Kantonsrat     AL          False   \n",
              "192402     21998     Esther     Guyer  Kantonsrat  Grüne           True   \n",
              "192411     21998     Esther     Guyer  Kantonsrat  Grüne           True   \n",
              "192511     21998     Esther     Guyer  Kantonsrat  Grüne           True   \n",
              "\n",
              "                                                     text       date  \\\n",
              "16       Namens der einstimmigen Interfraktionellen Ko... 1995-05-08   \n",
              "17                                                        1995-05-08   \n",
              "23       Namens der einstimmigen Interfraktionellen Ko... 1995-05-08   \n",
              "258      Namens der einstimmigen Interfraktionellen Ko... 1995-05-22   \n",
              "259                                                       1995-05-22   \n",
              "...                                                   ...        ...   \n",
              "192390   Die Interfraktionelle Konferenz schlägt Ihnen... 2023-03-06   \n",
              "192395   Die Interfraktionelle Konferenz schlägt Ihnen... 2023-03-06   \n",
              "192402        Wir kommen nun zu den Fraktionssprechenden. 2023-03-06   \n",
              "192411   Die Fraktionen haben ihre Erklärungen abgegeb... 2023-03-06   \n",
              "192511                           Das stimmt, besten Dank. 2023-03-06   \n",
              "\n",
              "           session_title  session_id  word_count  \n",
              "16        1. Ratssitzung        1595          12  \n",
              "17        1. Ratssitzung        1595           1  \n",
              "23        1. Ratssitzung        1595           9  \n",
              "258       3. Ratssitzung         694          12  \n",
              "259       3. Ratssitzung         694           1  \n",
              "...                  ...         ...         ...  \n",
              "192390  219. Ratssitzung         713           8  \n",
              "192395  219. Ratssitzung         713           8  \n",
              "192402  219. Ratssitzung         713           6  \n",
              "192411  219. Ratssitzung         713          13  \n",
              "192511  219. Ratssitzung         713           4  \n",
              "\n",
              "[8453 rows x 13 columns]"
            ]
          },
          "execution_count": 25,
          "metadata": {},
          "output_type": "execute_result"
        }
      ],
      "source": [
        "df[(df['word_count'] < 15) & (df['person_id'].notnull())]"
      ]
    },
    {
      "cell_type": "code",
      "execution_count": 26,
      "metadata": {},
      "outputs": [
        {
          "data": {
            "text/plain": [
              "<AxesSubplot: >"
            ]
          },
          "execution_count": 26,
          "metadata": {},
          "output_type": "execute_result"
        },
        {
          "data": {
            "image/png": "[encoded data removed]",
            "text/plain": [
              "<Figure size 216x504 with 1 Axes>"
            ]
          },
          "metadata": {
            "needs_background": "light"
          },
          "output_type": "display_data"
        }
      ],
      "source": [
        "#df[df['person_id'].notnull()].boxplot(column='word_count', figsize=(10, 10))\n",
        "plt.figure(figsize=(3,7))\n",
        "sns.boxplot(df[df['person_id'].notnull()]['word_count'].values)"
      ]
    },
    {
      "cell_type": "code",
      "execution_count": 27,
      "metadata": {},
      "outputs": [
        {
          "data": {
            "text/plain": [
              "<AxesSubplot: >"
            ]
          },
          "execution_count": 27,
          "metadata": {},
          "output_type": "execute_result"
        },
        {
          "data": {
            "image/png": "[encoded data removed]",
            "text/plain": [
              "<Figure size 216x504 with 1 Axes>"
            ]
          },
          "metadata": {
            "needs_background": "light"
          },
          "output_type": "display_data"
        }
      ],
      "source": [
        "plt.figure(figsize=(3,7))\n",
        "sns.boxplot(df.groupby('session_id')['paragraph_id'].count().values)"
      ]
    },
    {
      "cell_type": "code",
      "execution_count": null,
      "metadata": {},
      "outputs": [],
      "source": []
    }
  ],
  "metadata": {
    "kernel_info": {
      "name": "python3"
    },
    "kernelspec": {
      "display_name": "Python 3 (ipykernel)",
      "language": "python",
      "name": "python3"
    },
    "language_info": {
      "codemirror_mode": {
        "name": "ipython",
        "version": 3
      },
      "file_extension": ".py",
      "mimetype": "text/x-python",
      "name": "python",
      "nbconvert_exporter": "python",
      "pygments_lexer": "ipython3",
      "version": "3.10.9"
    },
    "microsoft": {
      "host": {
        "AzureML": {
          "notebookHasBeenCompleted": true
        }
      },
      "ms_spell_check": {
        "ms_spell_check_language": "en"
      }
    },
    "nteract": {
      "version": "nteract-front-end@1.0.0"
    }
  },
  "nbformat": 4,
  "nbformat_minor": 2
}
