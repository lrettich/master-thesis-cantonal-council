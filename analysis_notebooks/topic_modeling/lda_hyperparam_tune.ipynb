{
  "cells": [
    {
      "cell_type": "code",
      "execution_count": 1,
      "metadata": {
        "jupyter": {
          "outputs_hidden": false,
          "source_hidden": false
        },
        "nteract": {
          "transient": {
            "deleting": false
          }
        }
      },
      "outputs": [
        {
          "name": "stdout",
          "output_type": "stream",
          "text": [
            "Requirement already satisfied: gensim in /anaconda/envs/jupyter_env/lib/python3.8/site-packages (4.3.1)\n",
            "Requirement already satisfied: numpy>=1.18.5 in /anaconda/envs/jupyter_env/lib/python3.8/site-packages (from gensim) (1.23.5)\n",
            "Requirement already satisfied: scipy>=1.7.0 in /anaconda/envs/jupyter_env/lib/python3.8/site-packages (from gensim) (1.10.1)\n",
            "Requirement already satisfied: smart-open>=1.8.1 in /anaconda/envs/jupyter_env/lib/python3.8/site-packages (from gensim) (6.3.0)\n",
            "Note: you may need to restart the kernel to use updated packages.\n"
          ]
        }
      ],
      "source": [
        "%pip install gensim"
      ]
    },
    {
      "cell_type": "code",
      "execution_count": 2,
      "metadata": {
        "gather": {
          "logged": 1682066323004
        }
      },
      "outputs": [],
      "source": [
        "import pandas as pd\n",
        "import itertools\n",
        "import os\n",
        "\n",
        "from gensim.corpora import Dictionary\n",
        "from gensim.models import LdaMulticore\n",
        "from gensim.models import CoherenceModel"
      ]
    },
    {
      "cell_type": "code",
      "execution_count": 3,
      "metadata": {
        "gather": {
          "logged": 1682066323988
        }
      },
      "outputs": [],
      "source": [
        "lemma_grouped = pd.read_pickle(\"../data/df_lemma_grouped_from2018.pkl\")"
      ]
    },
    {
      "cell_type": "code",
      "execution_count": 4,
      "metadata": {
        "gather": {
          "logged": 1682066324057
        }
      },
      "outputs": [],
      "source": [
        "lemma_grouped = lemma_grouped[lemma_grouped.apply(len) >= 10]"
      ]
    },
    {
      "cell_type": "code",
      "execution_count": 5,
      "metadata": {
        "gather": {
          "logged": 1682066324109
        }
      },
      "outputs": [],
      "source": [
        "docs = lemma_grouped"
      ]
    },
    {
      "cell_type": "code",
      "execution_count": 6,
      "metadata": {
        "gather": {
          "logged": 1682066324243
        }
      },
      "outputs": [],
      "source": [
        "def calc_model(docs, no_above, num_topics, alpha, eta, no_below=10, topn=10):\n",
        "    dictionary = Dictionary(docs)\n",
        "    dictionary.filter_extremes(no_below=no_below, no_above=no_above)\n",
        "    corpus = [dictionary.doc2bow(doc) for doc in docs]\n",
        "    temp = dictionary[0]  # This is only to \"load\" the dictionary.\n",
        "    id2word = dictionary.id2token\n",
        "    model = LdaMulticore(\n",
        "        corpus=corpus,\n",
        "        id2word=id2word,\n",
        "        chunksize=600,\n",
        "        #alpha='auto',\n",
        "        alpha=alpha,\n",
        "        eta=eta,\n",
        "        iterations=400,\n",
        "        num_topics=num_topics,\n",
        "        passes=20,\n",
        "        eval_every=None\n",
        "    )\n",
        "    coherence_model_lda = CoherenceModel(model=model, texts=docs, dictionary=dictionary, coherence='c_v', topn=topn)\n",
        "    return coherence_model_lda.get_coherence()"
      ]
    },
    {
      "cell_type": "code",
      "execution_count": 7,
      "metadata": {
        "gather": {
          "logged": 1682066324333
        }
      },
      "outputs": [],
      "source": [
        "# print(calc_model(docs=docs, no_above=0.15, num_topics=100, alpha=1, eta=0.001))"
      ]
    },
    {
      "cell_type": "code",
      "execution_count": 8,
      "metadata": {
        "gather": {
          "logged": 1679504035572
        }
      },
      "outputs": [
        {
          "name": "stdout",
          "output_type": "stream",
          "text": [
            "     no_above  num_topics  alpha     eta   no_below  topn     score\n",
            "86        0.1         125   0.75  0.0001         10    10  0.619031\n",
            "295       0.1         125   1.00  0.0001         10    10  0.572558\n",
            "     no_above  num_topics  alpha     eta   no_below  topn     score\n",
            "86        0.1         125   0.75  0.0001         10    10  0.619031\n",
            "296       0.1         125   1.00  1.0000         10    10  0.501350\n",
            "     no_above  num_topics  alpha      eta   no_below  topn     score\n",
            "86        0.1         125   0.75  0.00010         10    10  0.619031\n",
            "297       0.1         125   0.50  0.00001         10    10  0.533866\n",
            "     no_above  num_topics  alpha     eta   no_below  topn     score\n",
            "86        0.1         125   0.75  0.0001         10    10  0.619031\n",
            "298       0.1         125   0.25  1.0000         10    10  0.531735\n",
            "     no_above  num_topics  alpha     eta   no_below  topn     score\n",
            "86        0.1         125   0.75  0.0001         10    10  0.619031\n",
            "299       0.1         125   0.25  0.1000         10    10  0.520905\n",
            "     no_above  num_topics  alpha      eta   no_below  topn     score\n",
            "86        0.1         125   0.75  0.00010         10    10  0.619031\n",
            "300       0.1         125   0.01  0.00001         10    10  0.549431\n",
            "     no_above  num_topics  alpha     eta   no_below  topn     score\n",
            "86        0.1         125   0.75  0.0001         10    10  0.619031\n",
            "301       0.1         125   0.01  0.0010         10    10  0.508907\n",
            "     no_above  num_topics   alpha     eta   no_below  topn     score\n",
            "86        0.1         125  0.7500  0.0001         10    10  0.619031\n",
            "302       0.1         125  0.0001  0.0001         10    10  0.546941\n",
            "     no_above  num_topics  alpha     eta   no_below  topn     score\n",
            "86        0.1         125   0.75  0.0001         10    10  0.619031\n",
            "303       0.1          50   2.00  0.0001         10    10  0.571530\n",
            "     no_above  num_topics  alpha  eta   no_below  topn     score\n",
            "304       0.1          50    2.0  0.1         10    10  0.619906\n",
            "304       0.1          50    2.0  0.1         10    10  0.619906\n",
            "     no_above  num_topics  alpha    eta   no_below  topn     score\n",
            "304       0.1          50   2.00  0.100         10    10  0.619906\n",
            "305       0.1          50   0.75  0.001         10    10  0.514929\n",
            "     no_above  num_topics  alpha     eta   no_below  topn     score\n",
            "304       0.1          50    2.0  0.1000         10    10  0.619906\n",
            "306       0.1          50    1.0  0.0001         10    10  0.579538\n",
            "     no_above  num_topics  alpha    eta   no_below  topn     score\n",
            "304       0.1          50    2.0  0.100         10    10  0.619906\n",
            "307       0.1          50    1.0  0.001         10    10  0.555603\n",
            "     no_above  num_topics  alpha   eta   no_below  topn     score\n",
            "304       0.1          50    2.0  0.10         10    10  0.619906\n",
            "308       0.1          50    0.5  0.01         10    10  0.517435\n",
            "     no_above  num_topics  alpha      eta   no_below  topn     score\n",
            "304       0.1          50    2.0  0.10000         10    10  0.619906\n",
            "309       0.1          50    0.5  0.00001         10    10  0.513179\n",
            "     no_above  num_topics  alpha  eta   no_below  topn     score\n",
            "304       0.1          50    2.0  0.1         10    10  0.619906\n",
            "310       0.1          50    0.5  0.1         10    10  0.521013\n",
            "     no_above  num_topics  alpha    eta   no_below  topn     score\n",
            "304       0.1          50    2.0  0.100         10    10  0.619906\n",
            "311       0.1          50    0.5  0.001         10    10  0.505686\n",
            "     no_above  num_topics  alpha  eta   no_below  topn     score\n",
            "304       0.1          50   2.00  0.1         10    10  0.619906\n",
            "312       0.1          50   0.25  1.0         10    10  0.557978\n",
            "     no_above  num_topics  alpha  eta   no_below  topn     score\n",
            "304       0.1          50   2.00  0.1         10    10  0.619906\n",
            "313       0.1          50   0.25  0.1         10    10  0.545239\n",
            "     no_above  num_topics  alpha     eta   no_below  topn     score\n",
            "304       0.1          50  2.000  0.1000         10    10  0.619906\n",
            "314       0.1          50  0.001  0.0001         10    10  0.528637\n",
            "     no_above  num_topics  alpha  eta   no_below  topn     score\n",
            "304       0.1          50  2.000  0.1         10    10  0.619906\n",
            "315       0.1          50  0.001  1.0         10    10  0.469067\n",
            "     no_above  num_topics  alpha  eta   no_below  topn     score\n",
            "304       0.1          50  2.000  0.1         10    10  0.619906\n",
            "316       0.1          50  0.001  0.1         10    10  0.512825\n",
            "     no_above  num_topics  alpha  eta   no_below  topn     score\n",
            "304       0.1          50   2.00  0.1         10    10  0.619906\n",
            "317       0.1          50   0.01  0.1         10    10  0.528599\n",
            "     no_above  num_topics   alpha  eta   no_below  topn     score\n",
            "304       0.1          50  2.0000  0.1         10    10  0.619906\n",
            "318       0.1          50  0.0001  1.0         10    10  0.542268\n",
            "     no_above  num_topics   alpha      eta   no_below  topn     score\n",
            "304       0.1          50  2.0000  0.10000         10    10  0.619906\n",
            "319       0.1          50  0.0001  0.00001         10    10  0.523012\n",
            "     no_above  num_topics  alpha    eta   no_below  topn     score\n",
            "304       0.1          50    2.0  0.100         10    10  0.619906\n",
            "320       0.1         100    2.0  0.001         10    10  0.572599\n",
            "     no_above  num_topics  alpha     eta   no_below  topn     score\n",
            "304       0.1          50    2.0  0.1000         10    10  0.619906\n",
            "321       0.1         100    1.0  0.0001         10    10  0.588883\n",
            "     no_above  num_topics  alpha    eta   no_below  topn     score\n",
            "304       0.1          50    2.0  0.100         10    10  0.619906\n",
            "322       0.1         100    1.0  0.001         10    10  0.608161\n",
            "     no_above  num_topics  alpha     eta   no_below  topn     score\n",
            "304       0.1          50   2.00  0.1000         10    10  0.619906\n",
            "323       0.1         100   0.25  0.0001         10    10  0.518738\n",
            "     no_above  num_topics  alpha  eta   no_below  topn     score\n",
            "304       0.1          50   2.00  0.1         10    10  0.619906\n",
            "324       0.1         100   0.25  1.0         10    10  0.506551\n",
            "     no_above  num_topics  alpha      eta   no_below  topn     score\n",
            "304       0.1          50  2.000  0.10000         10    10  0.619906\n",
            "325       0.1         100  0.001  0.00001         10    10  0.548795\n",
            "     no_above  num_topics  alpha  eta   no_below  topn     score\n",
            "304       0.1          50  2.000  0.1         10    10  0.619906\n",
            "326       0.1         100  0.001  0.1         10    10  0.500593\n",
            "     no_above  num_topics  alpha  eta   no_below  topn     score\n",
            "304       0.1          50   2.00  0.1         10    10  0.619906\n",
            "327       0.1         100   0.01  1.0         10    10  0.494433\n",
            "     no_above  num_topics   alpha  eta   no_below  topn     score\n",
            "304       0.1          50  2.0000  0.1         10    10  0.619906\n",
            "328       0.1         100  0.0001  0.1         10    10  0.487481\n",
            "     no_above  num_topics   alpha    eta   no_below  topn     score\n",
            "304       0.1          50  2.0000  0.100         10    10  0.619906\n",
            "329       0.1         100  0.0001  0.001         10    10  0.538160\n",
            "     no_above  num_topics  alpha  eta   no_below  topn     score\n",
            "304       0.1          50    2.0  0.1         10    10  0.619906\n",
            "334       0.1         150    1.0  1.0         10    10  0.340424\n",
            "     no_above  num_topics  alpha      eta   no_below  topn     score\n",
            "304       0.1          50    2.0  0.10000         10    10  0.619906\n",
            "335       0.1         150    1.0  0.00001         10    10  0.579847\n",
            "     no_above  num_topics  alpha    eta   no_below  topn     score\n",
            "304       0.1          50   2.00  0.100         10    10  0.619906\n",
            "340       0.1         150   0.25  0.001         10    10  0.510793\n",
            "     no_above  num_topics   alpha     eta   no_below  topn     score\n",
            "304       0.1          50  2.0000  0.1000         10    10  0.619906\n",
            "341       0.1         150  0.0001  0.0001         10    10  0.521008\n",
            "     no_above  num_topics  alpha   eta   no_below  topn     score\n",
            "304       0.1          50    2.0  0.10         10    10  0.619906\n",
            "342       0.1         175    2.0  0.01         10    10  0.576023\n",
            "     no_above  num_topics  alpha     eta   no_below  topn     score\n",
            "304       0.1          50   2.00  0.1000         10    10  0.619906\n",
            "343       0.1         175   0.75  0.0001         10    10  0.585194\n",
            "     no_above  num_topics  alpha  eta   no_below  topn     score\n",
            "304       0.1          50   2.00  0.1         10    10  0.619906\n",
            "344       0.1         175   0.75  1.0         10    10  0.405758\n",
            "     no_above  num_topics  alpha      eta   no_below  topn     score\n",
            "304       0.1          50   2.00  0.10000         10    10  0.619906\n",
            "345       0.1         175   0.75  0.00001         10    10  0.576312\n",
            "     no_above  num_topics  alpha  eta   no_below  topn     score\n",
            "304       0.1          50   2.00  0.1         10    10  0.619906\n",
            "346       0.1         175   0.75  0.1         10    10  0.484518\n",
            "     no_above  num_topics  alpha     eta   no_below  topn     score\n",
            "304       0.1          50    2.0  0.1000         10    10  0.619906\n",
            "347       0.1         175    0.5  0.0001         10    10  0.532268\n",
            "     no_above  num_topics  alpha   eta   no_below  topn     score\n",
            "304       0.1          50   2.00  0.10         10    10  0.619906\n",
            "351       0.1         175   0.01  0.01         10    10  0.496711\n",
            "     no_above  num_topics  alpha   eta   no_below  topn     score\n",
            "304       0.1          50    2.0  0.10         10    10  0.619906\n",
            "359       0.1         200    0.5  0.01         10    10  0.540189\n",
            "     no_above  num_topics   alpha  eta   no_below  topn     score\n",
            "304       0.1          50  2.0000  0.1         10    10  0.619906\n",
            "363       0.1         200  0.0001  1.0         10    10  0.472589\n",
            "     no_above  num_topics  alpha    eta   no_below  topn     score\n",
            "304       0.1          50    2.0  0.100         10    10  0.619906\n",
            "367       0.1         250    1.0  0.001         10    10  0.507746\n",
            "     no_above  num_topics  alpha      eta   no_below  topn     score\n",
            "304       0.1          50  2.000  0.10000         10    10  0.619906\n",
            "370       0.1         250  0.001  0.00001         10    10  0.488325\n",
            "     no_above  num_topics  alpha    eta   no_below  topn     score\n",
            "304       0.1          50  2.000  0.100         10    10  0.619906\n",
            "371       0.1         250  0.001  0.001         10    10  0.498327\n",
            "     no_above  num_topics  alpha   eta   no_below  topn     score\n",
            "304       0.1          50   2.00  0.10         10    10  0.619906\n",
            "372       0.1         250   0.01  0.01         10    10  0.500992\n",
            "     no_above  num_topics  alpha    eta   no_below  topn     score\n",
            "304      0.10          50    2.0  0.100         10    10  0.619906\n",
            "380      0.15         125    1.0  0.001         10    10  0.557712\n",
            "     no_above  num_topics  alpha     eta   no_below  topn     score\n",
            "304      0.10          50   2.00  0.1000         10    10  0.619906\n",
            "381      0.15         125   0.01  0.0001         10    10  0.531253\n",
            "     no_above  num_topics  alpha   eta   no_below  topn     score\n",
            "304      0.10          50   2.00  0.10         10    10  0.619906\n",
            "382      0.15         125   0.01  0.01         10    10  0.517728\n",
            "     no_above  num_topics  alpha      eta   no_below  topn     score\n",
            "304      0.10          50   2.00  0.10000         10    10  0.619906\n",
            "383      0.15         125   0.01  0.00001         10    10  0.512061\n",
            "     no_above  num_topics   alpha   eta   no_below  topn     score\n",
            "304      0.10          50  2.0000  0.10         10    10  0.619906\n",
            "384      0.15         125  0.0001  0.01         10    10  0.546238\n",
            "     no_above  num_topics   alpha  eta   no_below  topn     score\n",
            "304      0.10          50  2.0000  0.1         10    10  0.619906\n",
            "385      0.15         125  0.0001  1.0         10    10  0.492006\n",
            "     no_above  num_topics   alpha    eta   no_below  topn     score\n",
            "304      0.10          50  2.0000  0.100         10    10  0.619906\n",
            "386      0.15         125  0.0001  0.001         10    10  0.532711\n",
            "     no_above  num_topics  alpha     eta   no_below  topn     score\n",
            "304      0.10          50   2.00  0.1000         10    10  0.619906\n",
            "387      0.15          50   0.75  0.0001         10    10  0.518729\n",
            "     no_above  num_topics  alpha    eta   no_below  topn     score\n",
            "304      0.10          50   2.00  0.100         10    10  0.619906\n",
            "388      0.15          50   0.75  0.001         10    10  0.559138\n",
            "     no_above  num_topics  alpha   eta   no_below  topn     score\n",
            "304      0.10          50    2.0  0.10         10    10  0.619906\n",
            "389      0.15          50    1.0  0.01         10    10  0.586572\n",
            "     no_above  num_topics  alpha     eta   no_below  topn     score\n",
            "304      0.10          50    2.0  0.1000         10    10  0.619906\n",
            "390      0.15          50    0.5  0.0001         10    10  0.591917\n",
            "     no_above  num_topics  alpha    eta   no_below  topn     score\n",
            "304      0.10          50    2.0  0.100         10    10  0.619906\n",
            "391      0.15          50    0.5  0.001         10    10  0.530961\n",
            "     no_above  num_topics  alpha      eta   no_below  topn     score\n",
            "304      0.10          50  2.000  0.10000         10    10  0.619906\n",
            "392      0.15          50  0.001  0.00001         10    10  0.549585\n",
            "     no_above  num_topics  alpha     eta   no_below  topn     score\n",
            "304      0.10          50   2.00  0.1000         10    10  0.619906\n",
            "393      0.15          50   0.01  0.0001         10    10  0.554795\n",
            "     no_above  num_topics  alpha   eta   no_below  topn     score\n",
            "304      0.10          50   2.00  0.10         10    10  0.619906\n",
            "394      0.15          50   0.01  0.01         10    10  0.554516\n",
            "     no_above  num_topics  alpha      eta   no_below  topn     score\n",
            "304      0.10          50   2.00  0.10000         10    10  0.619906\n",
            "395      0.15          50   0.01  0.00001         10    10  0.528872\n",
            "     no_above  num_topics  alpha  eta   no_below  topn     score\n",
            "304      0.10          50   2.00  0.1         10    10  0.619906\n",
            "396      0.15          50   0.01  0.1         10    10  0.505913\n",
            "     no_above  num_topics   alpha  eta   no_below  topn     score\n",
            "304      0.10          50  2.0000  0.1         10    10  0.619906\n",
            "397      0.15          50  0.0001  0.1         10    10  0.533022\n",
            "     no_above  num_topics  alpha    eta   no_below  topn     score\n",
            "304      0.10          50    2.0  0.100         10    10  0.619906\n",
            "398      0.15         100    2.0  0.001         10    10  0.523459\n",
            "     no_above  num_topics  alpha      eta   no_below  topn     score\n",
            "304      0.10          50   2.00  0.10000         10    10  0.619906\n",
            "399      0.15         100   0.75  0.00001         10    10  0.581505\n",
            "     no_above  num_topics  alpha    eta   no_below  topn     score\n",
            "304      0.10          50   2.00  0.100         10    10  0.619906\n",
            "400      0.15         100   0.75  0.001         10    10  0.598278\n",
            "     no_above  num_topics  alpha   eta   no_below  topn     score\n",
            "304      0.10          50    2.0  0.10         10    10  0.619906\n",
            "401      0.15         100    0.5  0.01         10    10  0.532966\n",
            "     no_above  num_topics  alpha  eta   no_below  topn     score\n",
            "304      0.10          50    2.0  0.1         10    10  0.619906\n",
            "402      0.15         100    0.5  1.0         10    10  0.560887\n",
            "     no_above  num_topics  alpha  eta   no_below  topn     score\n",
            "304      0.10          50    2.0  0.1         10    10  0.619906\n",
            "410      0.15         150    2.0  1.0         10    10  0.361925\n",
            "     no_above  num_topics  alpha  eta   no_below  topn     score\n",
            "304      0.10          50   2.00  0.1         10    10  0.619906\n",
            "417      0.15         150   0.25  1.0         10    10  0.518664\n",
            "     no_above  num_topics  alpha      eta   no_below  topn     score\n",
            "304      0.10          50   2.00  0.10000         10    10  0.619906\n",
            "418      0.15         150   0.25  0.00001         10    10  0.555287\n",
            "     no_above  num_topics   alpha   eta   no_below  topn     score\n",
            "304      0.10          50  2.0000  0.10         10    10  0.619906\n",
            "422      0.15         150  0.0001  0.01         10    10  0.495813\n",
            "     no_above  num_topics   alpha  eta   no_below  topn     score\n",
            "304      0.10          50  2.0000  0.1         10    10  0.619906\n",
            "423      0.15         150  0.0001  1.0         10    10  0.514186\n",
            "     no_above  num_topics  alpha  eta   no_below  topn     score\n",
            "304      0.10          50   2.00  0.1         10    10  0.619906\n",
            "427      0.15         175   0.75  1.0         10    10  0.280630\n",
            "     no_above  num_topics  alpha    eta   no_below  topn     score\n",
            "304      0.10          50   2.00  0.100         10    10  0.619906\n",
            "428      0.15         175   0.75  0.001         10    10  0.542201\n",
            "     no_above  num_topics  alpha   eta   no_below  topn     score\n",
            "304      0.10          50    2.0  0.10         10    10  0.619906\n",
            "429      0.15         175    0.5  0.01         10    10  0.539480\n",
            "     no_above  num_topics  alpha  eta   no_below  topn     score\n",
            "304      0.10          50    2.0  0.1         10    10  0.619906\n",
            "430      0.15         175    0.5  1.0         10    10  0.510054\n",
            "     no_above  num_topics  alpha  eta   no_below  topn     score\n",
            "304      0.10          50   2.00  0.1         10    10  0.619906\n",
            "431      0.15         175   0.25  1.0         10    10  0.527225\n",
            "     no_above  num_topics  alpha    eta   no_below  topn     score\n",
            "304      0.10          50   2.00  0.100         10    10  0.619906\n",
            "432      0.15         175   0.01  0.001         10    10  0.518653\n",
            "     no_above  num_topics   alpha  eta   no_below  topn     score\n",
            "304      0.10          50  2.0000  0.1         10    10  0.619906\n",
            "433      0.15         175  0.0001  1.0         10    10  0.505526\n",
            "     no_above  num_topics   alpha      eta   no_below  topn     score\n",
            "304      0.10          50  2.0000  0.10000         10    10  0.619906\n",
            "434      0.15         175  0.0001  0.00001         10    10  0.510594\n",
            "     no_above  num_topics   alpha    eta   no_below  topn     score\n",
            "304      0.10          50  2.0000  0.100         10    10  0.619906\n",
            "435      0.15         175  0.0001  0.001         10    10  0.535032\n",
            "     no_above  num_topics  alpha     eta   no_below  topn     score\n",
            "304      0.10          50    2.0  0.1000         10    10  0.619906\n",
            "436      0.15         200    2.0  0.0001         10    10  0.523369\n",
            "     no_above  num_topics  alpha      eta   no_below  topn     score\n",
            "304      0.10          50   2.00  0.10000         10    10  0.619906\n",
            "437      0.15         200   0.75  0.00001         10    10  0.510686\n",
            "     no_above  num_topics  alpha  eta   no_below  topn     score\n",
            "304      0.10          50    2.0  0.1         10    10  0.619906\n",
            "438      0.15         200    1.0  1.0         10    10  0.391235\n",
            "     no_above  num_topics  alpha      eta   no_below  topn     score\n",
            "304      0.10          50    2.0  0.10000         10    10  0.619906\n",
            "439      0.15         200    1.0  0.00001         10    10  0.466190\n",
            "     no_above  num_topics  alpha  eta   no_below  topn     score\n",
            "304      0.10          50    2.0  0.1         10    10  0.619906\n",
            "440      0.15         200    1.0  0.1         10    10  0.411885\n",
            "     no_above  num_topics  alpha   eta   no_below  topn     score\n",
            "304      0.10          50    2.0  0.10         10    10  0.619906\n",
            "441      0.15         200    0.5  0.01         10    10  0.553822\n",
            "     no_above  num_topics  alpha  eta   no_below  topn     score\n",
            "304      0.10          50   2.00  0.1         10    10  0.619906\n",
            "442      0.15         200   0.25  1.0         10    10  0.539841\n",
            "     no_above  num_topics  alpha  eta   no_below  topn     score\n",
            "304      0.10          50  2.000  0.1         10    10  0.619906\n",
            "443      0.15         200  0.001  0.1         10    10  0.477704\n",
            "     no_above  num_topics  alpha     eta   no_below  topn     score\n",
            "304      0.10          50   2.00  0.1000         10    10  0.619906\n",
            "444      0.15         200   0.01  0.0001         10    10  0.535276\n"
          ]
        }
      ],
      "source": [
        "import random\n",
        "\n",
        "no_above=[0.1, 0.15]\n",
        "num_topics=[50, 100, 125, 150, 175, 200, 250]\n",
        "alpha=[1, 0.5, 2, 0.75, 0.25, 0.01, 0.001, 0.0001]\n",
        "eta=[0.001, 0.01, 0.1, 1, 0.0001, 0.00001]\n",
        "no_below=[10]\n",
        "topn=[10]\n",
        "columns=['no_above', 'num_topics', 'alpha', 'eta', ' no_below', 'topn', 'score']\n",
        "\n",
        "random.shuffle(no_above)\n",
        "random.shuffle(num_topics)\n",
        "random.shuffle(alpha)\n",
        "random.shuffle(eta)\n",
        "\n",
        "model_perf_file_path = \"../data/model_perf.csv\"\n",
        "if os.path.isfile(model_perf_file_path):\n",
        "    df = pd.read_csv(model_perf_file_path)\n",
        "else:\n",
        "    df = pd.DataFrame(columns=columns)\n",
        "\n",
        "for c in itertools.product(no_above, num_topics, alpha, eta, no_below, topn):\n",
        "    if random.choice([True, False, False, False]):\n",
        "        score = calc_model(docs=docs, no_above=c[0], num_topics=c[1], alpha=c[2], eta=c[3], no_below=c[4], topn=c[5])\n",
        "        values = list(c)\n",
        "        values.append(score)\n",
        "        dfrow = pd.DataFrame([values], columns=columns)\n",
        "        df = pd.concat([df, dfrow])\n",
        "        df.to_csv(model_perf_file_path, index=False)\n",
        "        df.reset_index(inplace=True, drop=True)\n",
        "        print(df.iloc[[df['score'].idxmax(), -1]])\n",
        "    "
      ]
    },
    {
      "cell_type": "code",
      "execution_count": null,
      "metadata": {},
      "outputs": [],
      "source": []
    }
  ],
  "metadata": {
    "kernel_info": {
      "name": "python3"
    },
    "kernelspec": {
      "display_name": "Python 3 (ipykernel)",
      "language": "python",
      "name": "python3"
    },
    "language_info": {
      "codemirror_mode": {
        "name": "ipython",
        "version": 3
      },
      "file_extension": ".py",
      "mimetype": "text/x-python",
      "name": "python",
      "nbconvert_exporter": "python",
      "pygments_lexer": "ipython3",
      "version": "3.10.9"
    },
    "microsoft": {
      "host": {
        "AzureML": {
          "notebookHasBeenCompleted": true
        }
      },
      "ms_spell_check": {
        "ms_spell_check_language": "en"
      }
    },
    "nteract": {
      "version": "nteract-front-end@1.0.0"
    },
    "orig_nbformat": 4
  },
  "nbformat": 4,
  "nbformat_minor": 2
}
